{
  "cells": [
    {
      "cell_type": "markdown",
      "metadata": {
        "id": "view-in-github",
        "colab_type": "text"
      },
      "source": [
        "<a href=\"https://colab.research.google.com/github/Zanatyy/Udacity_CharityML/blob/main/finding_donors.ipynb\" target=\"_parent\"><img src=\"https://colab.research.google.com/assets/colab-badge.svg\" alt=\"Open In Colab\"/></a>"
      ]
    },
    {
      "cell_type": "markdown",
      "metadata": {
        "id": "OP0CBZ_xPdGZ"
      },
      "source": [
        "## Supervised Learning\n",
        "## Project: Finding Donors for *CharityML*"
      ]
    },
    {
      "cell_type": "markdown",
      "metadata": {
        "id": "u_Samc2oPdGa"
      },
      "source": [
        "In this notebook, some template code has already been provided for you, and it will be your job to implement the additional functionality necessary to successfully complete this project. Sections that begin with **'Implementation'** in the header indicate that the following block of code will require additional functionality which you must provide. Instructions will be provided for each section and the specifics of the implementation are marked in the code block with a `'TODO'` statement. Please be sure to read the instructions carefully!\n",
        "\n",
        "In addition to implementing code, there will be questions that you must answer which relate to the project and your implementation. Each section where you will answer a question is preceded by a **'Question X'** header. Carefully read each question and provide thorough answers in the following text boxes that begin with **'Answer:'**. Your project submission will be evaluated based on your answers to each of the questions and the implementation you provide.  \n",
        "\n",
        ">**Note:** Please specify WHICH VERSION OF PYTHON you are using when submitting this notebook. Code and Markdown cells can be executed using the **Shift + Enter** keyboard shortcut. In addition, Markdown cells can be edited by typically double-clicking the cell to enter edit mode."
      ]
    },
    {
      "cell_type": "markdown",
      "metadata": {
        "id": "0Hfxo-fQPdGb"
      },
      "source": [
        "## Getting Started\n",
        "\n",
        "In this project, you will employ several supervised algorithms of your choice to accurately model individuals' income using data collected from the 1994 U.S. Census. You will then choose the best candidate algorithm from preliminary results and further optimize this algorithm to best model the data. Your goal with this implementation is to construct a model that accurately predicts whether an individual makes more than $50,000. This sort of task can arise in a non-profit setting, where organizations survive on donations.  Understanding an individual's income can help a non-profit better understand how large of a donation to request, or whether or not they should reach out to begin with.  While it can be difficult to determine an individual's general income bracket directly from public sources, we can (as we will see) infer this value from other publically available features. \n",
        "\n",
        "The dataset for this project originates from the [UCI Machine Learning Repository](https://archive.ics.uci.edu/ml/datasets/Census+Income). The datset was donated by Ron Kohavi and Barry Becker, after being published in the article _\"Scaling Up the Accuracy of Naive-Bayes Classifiers: A Decision-Tree Hybrid\"_. You can find the article by Ron Kohavi [online](https://www.aaai.org/Papers/KDD/1996/KDD96-033.pdf). The data we investigate here consists of small changes to the original dataset, such as removing the `'fnlwgt'` feature and records with missing or ill-formatted entries."
      ]
    },
    {
      "cell_type": "markdown",
      "metadata": {
        "id": "RQ16MOarPdGc"
      },
      "source": [
        "----\n",
        "## Exploring the Data\n",
        "Run the code cell below to load necessary Python libraries and load the census data. Note that the last column from this dataset, `'income'`, will be our target label (whether an individual makes more than, or at most, $50,000 annually). All other columns are features about each individual in the census database."
      ]
    },
    {
      "cell_type": "code",
      "execution_count": 22,
      "metadata": {
        "id": "PVTM2wvPPdGd",
        "colab": {
          "base_uri": "https://localhost:8080/",
          "height": 206
        },
        "outputId": "e993d3ad-bda5-4559-849c-7e3e075a4784"
      },
      "outputs": [
        {
          "output_type": "display_data",
          "data": {
            "text/html": [
              "\n",
              "  <div id=\"df-d1276fd5-a6c2-4553-a9f6-0a715a2095b3\">\n",
              "    <div class=\"colab-df-container\">\n",
              "      <div>\n",
              "<style scoped>\n",
              "    .dataframe tbody tr th:only-of-type {\n",
              "        vertical-align: middle;\n",
              "    }\n",
              "\n",
              "    .dataframe tbody tr th {\n",
              "        vertical-align: top;\n",
              "    }\n",
              "\n",
              "    .dataframe thead th {\n",
              "        text-align: right;\n",
              "    }\n",
              "</style>\n",
              "<table border=\"1\" class=\"dataframe\">\n",
              "  <thead>\n",
              "    <tr style=\"text-align: right;\">\n",
              "      <th></th>\n",
              "      <th>age</th>\n",
              "      <th>workclass</th>\n",
              "      <th>education-num</th>\n",
              "      <th>marital-status</th>\n",
              "      <th>occupation</th>\n",
              "      <th>relationship</th>\n",
              "      <th>race</th>\n",
              "      <th>sex</th>\n",
              "      <th>capital-gain</th>\n",
              "      <th>capital-loss</th>\n",
              "      <th>hours-per-week</th>\n",
              "      <th>native-country</th>\n",
              "      <th>income</th>\n",
              "    </tr>\n",
              "  </thead>\n",
              "  <tbody>\n",
              "    <tr>\n",
              "      <th>0</th>\n",
              "      <td>39</td>\n",
              "      <td>State-gov</td>\n",
              "      <td>13.0</td>\n",
              "      <td>Never-married</td>\n",
              "      <td>Adm-clerical</td>\n",
              "      <td>Not-in-family</td>\n",
              "      <td>White</td>\n",
              "      <td>Male</td>\n",
              "      <td>2174.0</td>\n",
              "      <td>0.0</td>\n",
              "      <td>40.0</td>\n",
              "      <td>United-States</td>\n",
              "      <td>&lt;=50K</td>\n",
              "    </tr>\n",
              "    <tr>\n",
              "      <th>1</th>\n",
              "      <td>50</td>\n",
              "      <td>Self-emp-not-inc</td>\n",
              "      <td>13.0</td>\n",
              "      <td>Married-civ-spouse</td>\n",
              "      <td>Exec-managerial</td>\n",
              "      <td>Husband</td>\n",
              "      <td>White</td>\n",
              "      <td>Male</td>\n",
              "      <td>0.0</td>\n",
              "      <td>0.0</td>\n",
              "      <td>13.0</td>\n",
              "      <td>United-States</td>\n",
              "      <td>&lt;=50K</td>\n",
              "    </tr>\n",
              "    <tr>\n",
              "      <th>2</th>\n",
              "      <td>38</td>\n",
              "      <td>Private</td>\n",
              "      <td>9.0</td>\n",
              "      <td>Divorced</td>\n",
              "      <td>Handlers-cleaners</td>\n",
              "      <td>Not-in-family</td>\n",
              "      <td>White</td>\n",
              "      <td>Male</td>\n",
              "      <td>0.0</td>\n",
              "      <td>0.0</td>\n",
              "      <td>40.0</td>\n",
              "      <td>United-States</td>\n",
              "      <td>&lt;=50K</td>\n",
              "    </tr>\n",
              "    <tr>\n",
              "      <th>3</th>\n",
              "      <td>53</td>\n",
              "      <td>Private</td>\n",
              "      <td>7.0</td>\n",
              "      <td>Married-civ-spouse</td>\n",
              "      <td>Handlers-cleaners</td>\n",
              "      <td>Husband</td>\n",
              "      <td>Black</td>\n",
              "      <td>Male</td>\n",
              "      <td>0.0</td>\n",
              "      <td>0.0</td>\n",
              "      <td>40.0</td>\n",
              "      <td>United-States</td>\n",
              "      <td>&lt;=50K</td>\n",
              "    </tr>\n",
              "    <tr>\n",
              "      <th>4</th>\n",
              "      <td>28</td>\n",
              "      <td>Private</td>\n",
              "      <td>13.0</td>\n",
              "      <td>Married-civ-spouse</td>\n",
              "      <td>Prof-specialty</td>\n",
              "      <td>Wife</td>\n",
              "      <td>Black</td>\n",
              "      <td>Female</td>\n",
              "      <td>0.0</td>\n",
              "      <td>0.0</td>\n",
              "      <td>40.0</td>\n",
              "      <td>Cuba</td>\n",
              "      <td>&lt;=50K</td>\n",
              "    </tr>\n",
              "  </tbody>\n",
              "</table>\n",
              "</div>\n",
              "      <button class=\"colab-df-convert\" onclick=\"convertToInteractive('df-d1276fd5-a6c2-4553-a9f6-0a715a2095b3')\"\n",
              "              title=\"Convert this dataframe to an interactive table.\"\n",
              "              style=\"display:none;\">\n",
              "        \n",
              "  <svg xmlns=\"http://www.w3.org/2000/svg\" height=\"24px\"viewBox=\"0 0 24 24\"\n",
              "       width=\"24px\">\n",
              "    <path d=\"M0 0h24v24H0V0z\" fill=\"none\"/>\n",
              "    <path d=\"M18.56 5.44l.94 2.06.94-2.06 2.06-.94-2.06-.94-.94-2.06-.94 2.06-2.06.94zm-11 1L8.5 8.5l.94-2.06 2.06-.94-2.06-.94L8.5 2.5l-.94 2.06-2.06.94zm10 10l.94 2.06.94-2.06 2.06-.94-2.06-.94-.94-2.06-.94 2.06-2.06.94z\"/><path d=\"M17.41 7.96l-1.37-1.37c-.4-.4-.92-.59-1.43-.59-.52 0-1.04.2-1.43.59L10.3 9.45l-7.72 7.72c-.78.78-.78 2.05 0 2.83L4 21.41c.39.39.9.59 1.41.59.51 0 1.02-.2 1.41-.59l7.78-7.78 2.81-2.81c.8-.78.8-2.07 0-2.86zM5.41 20L4 18.59l7.72-7.72 1.47 1.35L5.41 20z\"/>\n",
              "  </svg>\n",
              "      </button>\n",
              "      \n",
              "  <style>\n",
              "    .colab-df-container {\n",
              "      display:flex;\n",
              "      flex-wrap:wrap;\n",
              "      gap: 12px;\n",
              "    }\n",
              "\n",
              "    .colab-df-convert {\n",
              "      background-color: #E8F0FE;\n",
              "      border: none;\n",
              "      border-radius: 50%;\n",
              "      cursor: pointer;\n",
              "      display: none;\n",
              "      fill: #1967D2;\n",
              "      height: 32px;\n",
              "      padding: 0 0 0 0;\n",
              "      width: 32px;\n",
              "    }\n",
              "\n",
              "    .colab-df-convert:hover {\n",
              "      background-color: #E2EBFA;\n",
              "      box-shadow: 0px 1px 2px rgba(60, 64, 67, 0.3), 0px 1px 3px 1px rgba(60, 64, 67, 0.15);\n",
              "      fill: #174EA6;\n",
              "    }\n",
              "\n",
              "    [theme=dark] .colab-df-convert {\n",
              "      background-color: #3B4455;\n",
              "      fill: #D2E3FC;\n",
              "    }\n",
              "\n",
              "    [theme=dark] .colab-df-convert:hover {\n",
              "      background-color: #434B5C;\n",
              "      box-shadow: 0px 1px 3px 1px rgba(0, 0, 0, 0.15);\n",
              "      filter: drop-shadow(0px 1px 2px rgba(0, 0, 0, 0.3));\n",
              "      fill: #FFFFFF;\n",
              "    }\n",
              "  </style>\n",
              "\n",
              "      <script>\n",
              "        const buttonEl =\n",
              "          document.querySelector('#df-d1276fd5-a6c2-4553-a9f6-0a715a2095b3 button.colab-df-convert');\n",
              "        buttonEl.style.display =\n",
              "          google.colab.kernel.accessAllowed ? 'block' : 'none';\n",
              "\n",
              "        async function convertToInteractive(key) {\n",
              "          const element = document.querySelector('#df-d1276fd5-a6c2-4553-a9f6-0a715a2095b3');\n",
              "          const dataTable =\n",
              "            await google.colab.kernel.invokeFunction('convertToInteractive',\n",
              "                                                     [key], {});\n",
              "          if (!dataTable) return;\n",
              "\n",
              "          const docLinkHtml = 'Like what you see? Visit the ' +\n",
              "            '<a target=\"_blank\" href=https://colab.research.google.com/notebooks/data_table.ipynb>data table notebook</a>'\n",
              "            + ' to learn more about interactive tables.';\n",
              "          element.innerHTML = '';\n",
              "          dataTable['output_type'] = 'display_data';\n",
              "          await google.colab.output.renderOutput(dataTable, element);\n",
              "          const docLink = document.createElement('div');\n",
              "          docLink.innerHTML = docLinkHtml;\n",
              "          element.appendChild(docLink);\n",
              "        }\n",
              "      </script>\n",
              "    </div>\n",
              "  </div>\n",
              "  "
            ],
            "text/plain": [
              "   age          workclass  education-num  ... hours-per-week  native-country income\n",
              "0   39          State-gov           13.0  ...           40.0   United-States  <=50K\n",
              "1   50   Self-emp-not-inc           13.0  ...           13.0   United-States  <=50K\n",
              "2   38            Private            9.0  ...           40.0   United-States  <=50K\n",
              "3   53            Private            7.0  ...           40.0   United-States  <=50K\n",
              "4   28            Private           13.0  ...           40.0            Cuba  <=50K\n",
              "\n",
              "[5 rows x 13 columns]"
            ]
          },
          "metadata": {}
        }
      ],
      "source": [
        "# Import libraries necessary for this project\n",
        "import numpy as np\n",
        "import pandas as pd\n",
        "from time import time\n",
        "from IPython.display import display # Allows the use of display() for DataFrames\n",
        "from sklearn.metrics import accuracy_score\n",
        "from sklearn import preprocessing\n",
        "from sklearn.preprocessing import MinMaxScaler\n",
        "from sklearn.naive_bayes import MultinomialNB\n",
        "from sklearn import tree\n",
        "from sklearn.ensemble import AdaBoostClassifier, RandomForestClassifier, BaggingClassifier\n",
        "from sklearn.neighbors import KNeighborsClassifier\n",
        "# Import supplementary visualization code visuals.py\n",
        "import visuals as vs\n",
        "import matplotlib.pyplot as plt\n",
        "# Pretty display for notebooks\n",
        "%matplotlib inline\n",
        "\n",
        "# Load the Census dataset\n",
        "data = pd.read_csv(\"census.csv\")\n",
        "data=data.drop(['education_level'],axis=1)\n",
        "# Success - Display the first record\n",
        "display(data.head())"
      ]
    },
    {
      "cell_type": "markdown",
      "metadata": {
        "id": "8HSXrm_TPdGe"
      },
      "source": [
        "### Implementation: Data Exploration\n",
        "A cursory investigation of the dataset will determine how many individuals fit into either group, and will tell us about the percentage of these individuals making more than \\$50,000. In the code cell below, you will need to compute the following:\n",
        "- The total number of records, `'n_records'`\n",
        "- The number of individuals making more than \\$50,000 annually, `'n_greater_50k'`.\n",
        "- The number of individuals making at most \\$50,000 annually, `'n_at_most_50k'`.\n",
        "- The percentage of individuals making more than \\$50,000 annually, `'greater_percent'`.\n",
        "\n",
        "** HINT: ** You may need to look at the table above to understand how the `'income'` entries are formatted. "
      ]
    },
    {
      "cell_type": "code",
      "execution_count": 23,
      "outputs": [
        {
          "output_type": "execute_result",
          "data": {
            "text/html": [
              "\n",
              "  <div id=\"df-5d98c19e-7e13-4e67-9ea7-5eb139e8b311\">\n",
              "    <div class=\"colab-df-container\">\n",
              "      <div>\n",
              "<style scoped>\n",
              "    .dataframe tbody tr th:only-of-type {\n",
              "        vertical-align: middle;\n",
              "    }\n",
              "\n",
              "    .dataframe tbody tr th {\n",
              "        vertical-align: top;\n",
              "    }\n",
              "\n",
              "    .dataframe thead th {\n",
              "        text-align: right;\n",
              "    }\n",
              "</style>\n",
              "<table border=\"1\" class=\"dataframe\">\n",
              "  <thead>\n",
              "    <tr style=\"text-align: right;\">\n",
              "      <th></th>\n",
              "      <th>age</th>\n",
              "      <th>education-num</th>\n",
              "      <th>capital-gain</th>\n",
              "      <th>capital-loss</th>\n",
              "      <th>hours-per-week</th>\n",
              "    </tr>\n",
              "  </thead>\n",
              "  <tbody>\n",
              "    <tr>\n",
              "      <th>count</th>\n",
              "      <td>45222.000000</td>\n",
              "      <td>45222.000000</td>\n",
              "      <td>45222.000000</td>\n",
              "      <td>45222.000000</td>\n",
              "      <td>45222.000000</td>\n",
              "    </tr>\n",
              "    <tr>\n",
              "      <th>mean</th>\n",
              "      <td>38.547941</td>\n",
              "      <td>10.118460</td>\n",
              "      <td>1101.430344</td>\n",
              "      <td>88.595418</td>\n",
              "      <td>40.938017</td>\n",
              "    </tr>\n",
              "    <tr>\n",
              "      <th>std</th>\n",
              "      <td>13.217870</td>\n",
              "      <td>2.552881</td>\n",
              "      <td>7506.430084</td>\n",
              "      <td>404.956092</td>\n",
              "      <td>12.007508</td>\n",
              "    </tr>\n",
              "    <tr>\n",
              "      <th>min</th>\n",
              "      <td>17.000000</td>\n",
              "      <td>1.000000</td>\n",
              "      <td>0.000000</td>\n",
              "      <td>0.000000</td>\n",
              "      <td>1.000000</td>\n",
              "    </tr>\n",
              "    <tr>\n",
              "      <th>25%</th>\n",
              "      <td>28.000000</td>\n",
              "      <td>9.000000</td>\n",
              "      <td>0.000000</td>\n",
              "      <td>0.000000</td>\n",
              "      <td>40.000000</td>\n",
              "    </tr>\n",
              "    <tr>\n",
              "      <th>50%</th>\n",
              "      <td>37.000000</td>\n",
              "      <td>10.000000</td>\n",
              "      <td>0.000000</td>\n",
              "      <td>0.000000</td>\n",
              "      <td>40.000000</td>\n",
              "    </tr>\n",
              "    <tr>\n",
              "      <th>75%</th>\n",
              "      <td>47.000000</td>\n",
              "      <td>13.000000</td>\n",
              "      <td>0.000000</td>\n",
              "      <td>0.000000</td>\n",
              "      <td>45.000000</td>\n",
              "    </tr>\n",
              "    <tr>\n",
              "      <th>max</th>\n",
              "      <td>90.000000</td>\n",
              "      <td>16.000000</td>\n",
              "      <td>99999.000000</td>\n",
              "      <td>4356.000000</td>\n",
              "      <td>99.000000</td>\n",
              "    </tr>\n",
              "  </tbody>\n",
              "</table>\n",
              "</div>\n",
              "      <button class=\"colab-df-convert\" onclick=\"convertToInteractive('df-5d98c19e-7e13-4e67-9ea7-5eb139e8b311')\"\n",
              "              title=\"Convert this dataframe to an interactive table.\"\n",
              "              style=\"display:none;\">\n",
              "        \n",
              "  <svg xmlns=\"http://www.w3.org/2000/svg\" height=\"24px\"viewBox=\"0 0 24 24\"\n",
              "       width=\"24px\">\n",
              "    <path d=\"M0 0h24v24H0V0z\" fill=\"none\"/>\n",
              "    <path d=\"M18.56 5.44l.94 2.06.94-2.06 2.06-.94-2.06-.94-.94-2.06-.94 2.06-2.06.94zm-11 1L8.5 8.5l.94-2.06 2.06-.94-2.06-.94L8.5 2.5l-.94 2.06-2.06.94zm10 10l.94 2.06.94-2.06 2.06-.94-2.06-.94-.94-2.06-.94 2.06-2.06.94z\"/><path d=\"M17.41 7.96l-1.37-1.37c-.4-.4-.92-.59-1.43-.59-.52 0-1.04.2-1.43.59L10.3 9.45l-7.72 7.72c-.78.78-.78 2.05 0 2.83L4 21.41c.39.39.9.59 1.41.59.51 0 1.02-.2 1.41-.59l7.78-7.78 2.81-2.81c.8-.78.8-2.07 0-2.86zM5.41 20L4 18.59l7.72-7.72 1.47 1.35L5.41 20z\"/>\n",
              "  </svg>\n",
              "      </button>\n",
              "      \n",
              "  <style>\n",
              "    .colab-df-container {\n",
              "      display:flex;\n",
              "      flex-wrap:wrap;\n",
              "      gap: 12px;\n",
              "    }\n",
              "\n",
              "    .colab-df-convert {\n",
              "      background-color: #E8F0FE;\n",
              "      border: none;\n",
              "      border-radius: 50%;\n",
              "      cursor: pointer;\n",
              "      display: none;\n",
              "      fill: #1967D2;\n",
              "      height: 32px;\n",
              "      padding: 0 0 0 0;\n",
              "      width: 32px;\n",
              "    }\n",
              "\n",
              "    .colab-df-convert:hover {\n",
              "      background-color: #E2EBFA;\n",
              "      box-shadow: 0px 1px 2px rgba(60, 64, 67, 0.3), 0px 1px 3px 1px rgba(60, 64, 67, 0.15);\n",
              "      fill: #174EA6;\n",
              "    }\n",
              "\n",
              "    [theme=dark] .colab-df-convert {\n",
              "      background-color: #3B4455;\n",
              "      fill: #D2E3FC;\n",
              "    }\n",
              "\n",
              "    [theme=dark] .colab-df-convert:hover {\n",
              "      background-color: #434B5C;\n",
              "      box-shadow: 0px 1px 3px 1px rgba(0, 0, 0, 0.15);\n",
              "      filter: drop-shadow(0px 1px 2px rgba(0, 0, 0, 0.3));\n",
              "      fill: #FFFFFF;\n",
              "    }\n",
              "  </style>\n",
              "\n",
              "      <script>\n",
              "        const buttonEl =\n",
              "          document.querySelector('#df-5d98c19e-7e13-4e67-9ea7-5eb139e8b311 button.colab-df-convert');\n",
              "        buttonEl.style.display =\n",
              "          google.colab.kernel.accessAllowed ? 'block' : 'none';\n",
              "\n",
              "        async function convertToInteractive(key) {\n",
              "          const element = document.querySelector('#df-5d98c19e-7e13-4e67-9ea7-5eb139e8b311');\n",
              "          const dataTable =\n",
              "            await google.colab.kernel.invokeFunction('convertToInteractive',\n",
              "                                                     [key], {});\n",
              "          if (!dataTable) return;\n",
              "\n",
              "          const docLinkHtml = 'Like what you see? Visit the ' +\n",
              "            '<a target=\"_blank\" href=https://colab.research.google.com/notebooks/data_table.ipynb>data table notebook</a>'\n",
              "            + ' to learn more about interactive tables.';\n",
              "          element.innerHTML = '';\n",
              "          dataTable['output_type'] = 'display_data';\n",
              "          await google.colab.output.renderOutput(dataTable, element);\n",
              "          const docLink = document.createElement('div');\n",
              "          docLink.innerHTML = docLinkHtml;\n",
              "          element.appendChild(docLink);\n",
              "        }\n",
              "      </script>\n",
              "    </div>\n",
              "  </div>\n",
              "  "
            ],
            "text/plain": [
              "                age  education-num  capital-gain  capital-loss  hours-per-week\n",
              "count  45222.000000   45222.000000  45222.000000  45222.000000    45222.000000\n",
              "mean      38.547941      10.118460   1101.430344     88.595418       40.938017\n",
              "std       13.217870       2.552881   7506.430084    404.956092       12.007508\n",
              "min       17.000000       1.000000      0.000000      0.000000        1.000000\n",
              "25%       28.000000       9.000000      0.000000      0.000000       40.000000\n",
              "50%       37.000000      10.000000      0.000000      0.000000       40.000000\n",
              "75%       47.000000      13.000000      0.000000      0.000000       45.000000\n",
              "max       90.000000      16.000000  99999.000000   4356.000000       99.000000"
            ]
          },
          "metadata": {},
          "execution_count": 23
        }
      ],
      "source": [
        "data.describe()"
      ],
      "metadata": {
        "pycharm": {
          "name": "#%%\n"
        },
        "id": "okQduahFPdGf",
        "colab": {
          "base_uri": "https://localhost:8080/",
          "height": 300
        },
        "outputId": "2c0e0cd1-5666-4e3e-b1ed-10b219804718"
      }
    },
    {
      "cell_type": "code",
      "execution_count": 24,
      "outputs": [
        {
          "output_type": "execute_result",
          "data": {
            "text/plain": [
              "age               0\n",
              "workclass         0\n",
              "education-num     0\n",
              "marital-status    0\n",
              "occupation        0\n",
              "relationship      0\n",
              "race              0\n",
              "sex               0\n",
              "capital-gain      0\n",
              "capital-loss      0\n",
              "hours-per-week    0\n",
              "native-country    0\n",
              "income            0\n",
              "dtype: int64"
            ]
          },
          "metadata": {},
          "execution_count": 24
        }
      ],
      "source": [
        "data.isnull().sum()"
      ],
      "metadata": {
        "pycharm": {
          "name": "#%%\n"
        },
        "id": "qbb0L7mKPdGf",
        "colab": {
          "base_uri": "https://localhost:8080/"
        },
        "outputId": "c71a08c6-5e25-4d93-a54f-56f7d3b07ac2"
      }
    },
    {
      "cell_type": "code",
      "execution_count": 25,
      "outputs": [
        {
          "output_type": "execute_result",
          "data": {
            "text/plain": [
              "<=50K    34014\n",
              ">50K     11208\n",
              "Name: income, dtype: int64"
            ]
          },
          "metadata": {},
          "execution_count": 25
        }
      ],
      "source": [
        "data['income'].value_counts()"
      ],
      "metadata": {
        "pycharm": {
          "name": "#%%\n"
        },
        "id": "hyL6dX3YPdGf",
        "colab": {
          "base_uri": "https://localhost:8080/"
        },
        "outputId": "2c4a0ac7-5c2d-4a76-eacf-479b0916fb12"
      }
    },
    {
      "cell_type": "code",
      "execution_count": 26,
      "outputs": [
        {
          "output_type": "execute_result",
          "data": {
            "text/html": [
              "\n",
              "  <div id=\"df-6fd9b1e7-a849-4c22-bf08-c001a6e978b6\">\n",
              "    <div class=\"colab-df-container\">\n",
              "      <div>\n",
              "<style scoped>\n",
              "    .dataframe tbody tr th:only-of-type {\n",
              "        vertical-align: middle;\n",
              "    }\n",
              "\n",
              "    .dataframe tbody tr th {\n",
              "        vertical-align: top;\n",
              "    }\n",
              "\n",
              "    .dataframe thead th {\n",
              "        text-align: right;\n",
              "    }\n",
              "</style>\n",
              "<table border=\"1\" class=\"dataframe\">\n",
              "  <thead>\n",
              "    <tr style=\"text-align: right;\">\n",
              "      <th></th>\n",
              "      <th>age</th>\n",
              "      <th>education-num</th>\n",
              "      <th>capital-gain</th>\n",
              "      <th>capital-loss</th>\n",
              "      <th>hours-per-week</th>\n",
              "    </tr>\n",
              "  </thead>\n",
              "  <tbody>\n",
              "    <tr>\n",
              "      <th>count</th>\n",
              "      <td>34014.000000</td>\n",
              "      <td>34014.000000</td>\n",
              "      <td>34014.000000</td>\n",
              "      <td>34014.000000</td>\n",
              "      <td>34014.000000</td>\n",
              "    </tr>\n",
              "    <tr>\n",
              "      <th>mean</th>\n",
              "      <td>36.749427</td>\n",
              "      <td>9.630770</td>\n",
              "      <td>149.023402</td>\n",
              "      <td>54.032428</td>\n",
              "      <td>39.372023</td>\n",
              "    </tr>\n",
              "    <tr>\n",
              "      <th>std</th>\n",
              "      <td>13.564683</td>\n",
              "      <td>2.420402</td>\n",
              "      <td>927.447387</td>\n",
              "      <td>312.220461</td>\n",
              "      <td>11.974127</td>\n",
              "    </tr>\n",
              "    <tr>\n",
              "      <th>min</th>\n",
              "      <td>17.000000</td>\n",
              "      <td>1.000000</td>\n",
              "      <td>0.000000</td>\n",
              "      <td>0.000000</td>\n",
              "      <td>1.000000</td>\n",
              "    </tr>\n",
              "    <tr>\n",
              "      <th>25%</th>\n",
              "      <td>26.000000</td>\n",
              "      <td>9.000000</td>\n",
              "      <td>0.000000</td>\n",
              "      <td>0.000000</td>\n",
              "      <td>37.000000</td>\n",
              "    </tr>\n",
              "    <tr>\n",
              "      <th>50%</th>\n",
              "      <td>34.000000</td>\n",
              "      <td>9.000000</td>\n",
              "      <td>0.000000</td>\n",
              "      <td>0.000000</td>\n",
              "      <td>40.000000</td>\n",
              "    </tr>\n",
              "    <tr>\n",
              "      <th>75%</th>\n",
              "      <td>46.000000</td>\n",
              "      <td>10.000000</td>\n",
              "      <td>0.000000</td>\n",
              "      <td>0.000000</td>\n",
              "      <td>40.000000</td>\n",
              "    </tr>\n",
              "    <tr>\n",
              "      <th>max</th>\n",
              "      <td>90.000000</td>\n",
              "      <td>16.000000</td>\n",
              "      <td>41310.000000</td>\n",
              "      <td>4356.000000</td>\n",
              "      <td>99.000000</td>\n",
              "    </tr>\n",
              "  </tbody>\n",
              "</table>\n",
              "</div>\n",
              "      <button class=\"colab-df-convert\" onclick=\"convertToInteractive('df-6fd9b1e7-a849-4c22-bf08-c001a6e978b6')\"\n",
              "              title=\"Convert this dataframe to an interactive table.\"\n",
              "              style=\"display:none;\">\n",
              "        \n",
              "  <svg xmlns=\"http://www.w3.org/2000/svg\" height=\"24px\"viewBox=\"0 0 24 24\"\n",
              "       width=\"24px\">\n",
              "    <path d=\"M0 0h24v24H0V0z\" fill=\"none\"/>\n",
              "    <path d=\"M18.56 5.44l.94 2.06.94-2.06 2.06-.94-2.06-.94-.94-2.06-.94 2.06-2.06.94zm-11 1L8.5 8.5l.94-2.06 2.06-.94-2.06-.94L8.5 2.5l-.94 2.06-2.06.94zm10 10l.94 2.06.94-2.06 2.06-.94-2.06-.94-.94-2.06-.94 2.06-2.06.94z\"/><path d=\"M17.41 7.96l-1.37-1.37c-.4-.4-.92-.59-1.43-.59-.52 0-1.04.2-1.43.59L10.3 9.45l-7.72 7.72c-.78.78-.78 2.05 0 2.83L4 21.41c.39.39.9.59 1.41.59.51 0 1.02-.2 1.41-.59l7.78-7.78 2.81-2.81c.8-.78.8-2.07 0-2.86zM5.41 20L4 18.59l7.72-7.72 1.47 1.35L5.41 20z\"/>\n",
              "  </svg>\n",
              "      </button>\n",
              "      \n",
              "  <style>\n",
              "    .colab-df-container {\n",
              "      display:flex;\n",
              "      flex-wrap:wrap;\n",
              "      gap: 12px;\n",
              "    }\n",
              "\n",
              "    .colab-df-convert {\n",
              "      background-color: #E8F0FE;\n",
              "      border: none;\n",
              "      border-radius: 50%;\n",
              "      cursor: pointer;\n",
              "      display: none;\n",
              "      fill: #1967D2;\n",
              "      height: 32px;\n",
              "      padding: 0 0 0 0;\n",
              "      width: 32px;\n",
              "    }\n",
              "\n",
              "    .colab-df-convert:hover {\n",
              "      background-color: #E2EBFA;\n",
              "      box-shadow: 0px 1px 2px rgba(60, 64, 67, 0.3), 0px 1px 3px 1px rgba(60, 64, 67, 0.15);\n",
              "      fill: #174EA6;\n",
              "    }\n",
              "\n",
              "    [theme=dark] .colab-df-convert {\n",
              "      background-color: #3B4455;\n",
              "      fill: #D2E3FC;\n",
              "    }\n",
              "\n",
              "    [theme=dark] .colab-df-convert:hover {\n",
              "      background-color: #434B5C;\n",
              "      box-shadow: 0px 1px 3px 1px rgba(0, 0, 0, 0.15);\n",
              "      filter: drop-shadow(0px 1px 2px rgba(0, 0, 0, 0.3));\n",
              "      fill: #FFFFFF;\n",
              "    }\n",
              "  </style>\n",
              "\n",
              "      <script>\n",
              "        const buttonEl =\n",
              "          document.querySelector('#df-6fd9b1e7-a849-4c22-bf08-c001a6e978b6 button.colab-df-convert');\n",
              "        buttonEl.style.display =\n",
              "          google.colab.kernel.accessAllowed ? 'block' : 'none';\n",
              "\n",
              "        async function convertToInteractive(key) {\n",
              "          const element = document.querySelector('#df-6fd9b1e7-a849-4c22-bf08-c001a6e978b6');\n",
              "          const dataTable =\n",
              "            await google.colab.kernel.invokeFunction('convertToInteractive',\n",
              "                                                     [key], {});\n",
              "          if (!dataTable) return;\n",
              "\n",
              "          const docLinkHtml = 'Like what you see? Visit the ' +\n",
              "            '<a target=\"_blank\" href=https://colab.research.google.com/notebooks/data_table.ipynb>data table notebook</a>'\n",
              "            + ' to learn more about interactive tables.';\n",
              "          element.innerHTML = '';\n",
              "          dataTable['output_type'] = 'display_data';\n",
              "          await google.colab.output.renderOutput(dataTable, element);\n",
              "          const docLink = document.createElement('div');\n",
              "          docLink.innerHTML = docLinkHtml;\n",
              "          element.appendChild(docLink);\n",
              "        }\n",
              "      </script>\n",
              "    </div>\n",
              "  </div>\n",
              "  "
            ],
            "text/plain": [
              "                age  education-num  capital-gain  capital-loss  hours-per-week\n",
              "count  34014.000000   34014.000000  34014.000000  34014.000000    34014.000000\n",
              "mean      36.749427       9.630770    149.023402     54.032428       39.372023\n",
              "std       13.564683       2.420402    927.447387    312.220461       11.974127\n",
              "min       17.000000       1.000000      0.000000      0.000000        1.000000\n",
              "25%       26.000000       9.000000      0.000000      0.000000       37.000000\n",
              "50%       34.000000       9.000000      0.000000      0.000000       40.000000\n",
              "75%       46.000000      10.000000      0.000000      0.000000       40.000000\n",
              "max       90.000000      16.000000  41310.000000   4356.000000       99.000000"
            ]
          },
          "metadata": {},
          "execution_count": 26
        }
      ],
      "source": [
        "data[data['income']=='<=50K'].describe() #income equal or more than 50k"
      ],
      "metadata": {
        "pycharm": {
          "name": "#%%\n"
        },
        "id": "e5xsB1E-PdGg",
        "colab": {
          "base_uri": "https://localhost:8080/",
          "height": 300
        },
        "outputId": "661ea49d-314b-4920-e05c-69e26c5df3a9"
      }
    },
    {
      "cell_type": "code",
      "execution_count": 27,
      "outputs": [
        {
          "output_type": "execute_result",
          "data": {
            "text/html": [
              "\n",
              "  <div id=\"df-e6a6c404-43a2-48f6-9c29-283cb73b44a1\">\n",
              "    <div class=\"colab-df-container\">\n",
              "      <div>\n",
              "<style scoped>\n",
              "    .dataframe tbody tr th:only-of-type {\n",
              "        vertical-align: middle;\n",
              "    }\n",
              "\n",
              "    .dataframe tbody tr th {\n",
              "        vertical-align: top;\n",
              "    }\n",
              "\n",
              "    .dataframe thead th {\n",
              "        text-align: right;\n",
              "    }\n",
              "</style>\n",
              "<table border=\"1\" class=\"dataframe\">\n",
              "  <thead>\n",
              "    <tr style=\"text-align: right;\">\n",
              "      <th></th>\n",
              "      <th>age</th>\n",
              "      <th>education-num</th>\n",
              "      <th>capital-gain</th>\n",
              "      <th>capital-loss</th>\n",
              "      <th>hours-per-week</th>\n",
              "    </tr>\n",
              "  </thead>\n",
              "  <tbody>\n",
              "    <tr>\n",
              "      <th>count</th>\n",
              "      <td>11208.000000</td>\n",
              "      <td>11208.000000</td>\n",
              "      <td>11208.000000</td>\n",
              "      <td>11208.000000</td>\n",
              "      <td>11208.000000</td>\n",
              "    </tr>\n",
              "    <tr>\n",
              "      <th>mean</th>\n",
              "      <td>44.006067</td>\n",
              "      <td>11.598501</td>\n",
              "      <td>3991.791667</td>\n",
              "      <td>193.487063</td>\n",
              "      <td>45.690489</td>\n",
              "    </tr>\n",
              "    <tr>\n",
              "      <th>std</th>\n",
              "      <td>10.340502</td>\n",
              "      <td>2.367451</td>\n",
              "      <td>14616.543746</td>\n",
              "      <td>592.642319</td>\n",
              "      <td>10.797764</td>\n",
              "    </tr>\n",
              "    <tr>\n",
              "      <th>min</th>\n",
              "      <td>19.000000</td>\n",
              "      <td>1.000000</td>\n",
              "      <td>0.000000</td>\n",
              "      <td>0.000000</td>\n",
              "      <td>1.000000</td>\n",
              "    </tr>\n",
              "    <tr>\n",
              "      <th>25%</th>\n",
              "      <td>36.000000</td>\n",
              "      <td>10.000000</td>\n",
              "      <td>0.000000</td>\n",
              "      <td>0.000000</td>\n",
              "      <td>40.000000</td>\n",
              "    </tr>\n",
              "    <tr>\n",
              "      <th>50%</th>\n",
              "      <td>43.000000</td>\n",
              "      <td>12.000000</td>\n",
              "      <td>0.000000</td>\n",
              "      <td>0.000000</td>\n",
              "      <td>40.000000</td>\n",
              "    </tr>\n",
              "    <tr>\n",
              "      <th>75%</th>\n",
              "      <td>51.000000</td>\n",
              "      <td>13.000000</td>\n",
              "      <td>0.000000</td>\n",
              "      <td>0.000000</td>\n",
              "      <td>50.000000</td>\n",
              "    </tr>\n",
              "    <tr>\n",
              "      <th>max</th>\n",
              "      <td>90.000000</td>\n",
              "      <td>16.000000</td>\n",
              "      <td>99999.000000</td>\n",
              "      <td>3683.000000</td>\n",
              "      <td>99.000000</td>\n",
              "    </tr>\n",
              "  </tbody>\n",
              "</table>\n",
              "</div>\n",
              "      <button class=\"colab-df-convert\" onclick=\"convertToInteractive('df-e6a6c404-43a2-48f6-9c29-283cb73b44a1')\"\n",
              "              title=\"Convert this dataframe to an interactive table.\"\n",
              "              style=\"display:none;\">\n",
              "        \n",
              "  <svg xmlns=\"http://www.w3.org/2000/svg\" height=\"24px\"viewBox=\"0 0 24 24\"\n",
              "       width=\"24px\">\n",
              "    <path d=\"M0 0h24v24H0V0z\" fill=\"none\"/>\n",
              "    <path d=\"M18.56 5.44l.94 2.06.94-2.06 2.06-.94-2.06-.94-.94-2.06-.94 2.06-2.06.94zm-11 1L8.5 8.5l.94-2.06 2.06-.94-2.06-.94L8.5 2.5l-.94 2.06-2.06.94zm10 10l.94 2.06.94-2.06 2.06-.94-2.06-.94-.94-2.06-.94 2.06-2.06.94z\"/><path d=\"M17.41 7.96l-1.37-1.37c-.4-.4-.92-.59-1.43-.59-.52 0-1.04.2-1.43.59L10.3 9.45l-7.72 7.72c-.78.78-.78 2.05 0 2.83L4 21.41c.39.39.9.59 1.41.59.51 0 1.02-.2 1.41-.59l7.78-7.78 2.81-2.81c.8-.78.8-2.07 0-2.86zM5.41 20L4 18.59l7.72-7.72 1.47 1.35L5.41 20z\"/>\n",
              "  </svg>\n",
              "      </button>\n",
              "      \n",
              "  <style>\n",
              "    .colab-df-container {\n",
              "      display:flex;\n",
              "      flex-wrap:wrap;\n",
              "      gap: 12px;\n",
              "    }\n",
              "\n",
              "    .colab-df-convert {\n",
              "      background-color: #E8F0FE;\n",
              "      border: none;\n",
              "      border-radius: 50%;\n",
              "      cursor: pointer;\n",
              "      display: none;\n",
              "      fill: #1967D2;\n",
              "      height: 32px;\n",
              "      padding: 0 0 0 0;\n",
              "      width: 32px;\n",
              "    }\n",
              "\n",
              "    .colab-df-convert:hover {\n",
              "      background-color: #E2EBFA;\n",
              "      box-shadow: 0px 1px 2px rgba(60, 64, 67, 0.3), 0px 1px 3px 1px rgba(60, 64, 67, 0.15);\n",
              "      fill: #174EA6;\n",
              "    }\n",
              "\n",
              "    [theme=dark] .colab-df-convert {\n",
              "      background-color: #3B4455;\n",
              "      fill: #D2E3FC;\n",
              "    }\n",
              "\n",
              "    [theme=dark] .colab-df-convert:hover {\n",
              "      background-color: #434B5C;\n",
              "      box-shadow: 0px 1px 3px 1px rgba(0, 0, 0, 0.15);\n",
              "      filter: drop-shadow(0px 1px 2px rgba(0, 0, 0, 0.3));\n",
              "      fill: #FFFFFF;\n",
              "    }\n",
              "  </style>\n",
              "\n",
              "      <script>\n",
              "        const buttonEl =\n",
              "          document.querySelector('#df-e6a6c404-43a2-48f6-9c29-283cb73b44a1 button.colab-df-convert');\n",
              "        buttonEl.style.display =\n",
              "          google.colab.kernel.accessAllowed ? 'block' : 'none';\n",
              "\n",
              "        async function convertToInteractive(key) {\n",
              "          const element = document.querySelector('#df-e6a6c404-43a2-48f6-9c29-283cb73b44a1');\n",
              "          const dataTable =\n",
              "            await google.colab.kernel.invokeFunction('convertToInteractive',\n",
              "                                                     [key], {});\n",
              "          if (!dataTable) return;\n",
              "\n",
              "          const docLinkHtml = 'Like what you see? Visit the ' +\n",
              "            '<a target=\"_blank\" href=https://colab.research.google.com/notebooks/data_table.ipynb>data table notebook</a>'\n",
              "            + ' to learn more about interactive tables.';\n",
              "          element.innerHTML = '';\n",
              "          dataTable['output_type'] = 'display_data';\n",
              "          await google.colab.output.renderOutput(dataTable, element);\n",
              "          const docLink = document.createElement('div');\n",
              "          docLink.innerHTML = docLinkHtml;\n",
              "          element.appendChild(docLink);\n",
              "        }\n",
              "      </script>\n",
              "    </div>\n",
              "  </div>\n",
              "  "
            ],
            "text/plain": [
              "                age  education-num  capital-gain  capital-loss  hours-per-week\n",
              "count  11208.000000   11208.000000  11208.000000  11208.000000    11208.000000\n",
              "mean      44.006067      11.598501   3991.791667    193.487063       45.690489\n",
              "std       10.340502       2.367451  14616.543746    592.642319       10.797764\n",
              "min       19.000000       1.000000      0.000000      0.000000        1.000000\n",
              "25%       36.000000      10.000000      0.000000      0.000000       40.000000\n",
              "50%       43.000000      12.000000      0.000000      0.000000       40.000000\n",
              "75%       51.000000      13.000000      0.000000      0.000000       50.000000\n",
              "max       90.000000      16.000000  99999.000000   3683.000000       99.000000"
            ]
          },
          "metadata": {},
          "execution_count": 27
        }
      ],
      "source": [
        "data[data['income']=='>50K'].describe() #income less than 50k"
      ],
      "metadata": {
        "pycharm": {
          "name": "#%%\n"
        },
        "id": "z_1943YePdGg",
        "colab": {
          "base_uri": "https://localhost:8080/",
          "height": 300
        },
        "outputId": "115bb270-674e-4eae-ff14-7db492389be0"
      }
    },
    {
      "cell_type": "code",
      "execution_count": 28,
      "metadata": {
        "id": "HguluOzKPdGg",
        "colab": {
          "base_uri": "https://localhost:8080/"
        },
        "outputId": "a6ea7db5-0ef8-4a56-d04f-268424419b79"
      },
      "outputs": [
        {
          "output_type": "stream",
          "name": "stdout",
          "text": [
            "Total number of records: 45222\n",
            "Individuals making more than $50,000: 11208\n",
            "Individuals making at most $50,000: 34014\n",
            "Percentage of individuals making more than $50,000: 0.2478439697492371%\n"
          ]
        }
      ],
      "source": [
        "# TODO: Total number of records\n",
        "n_records = len(data)\n",
        "\n",
        "# TODO: Number of records where individual's income is more than $50,000\n",
        "n_greater_50k = len(data[data['income']=='>50K'])\n",
        "\n",
        "# TODO: Number of records where individual's income is at most $50,000\n",
        "n_at_most_50k = len(data[data['income']=='<=50K'])\n",
        "\n",
        "# TODO: Percentage of individuals whose income is more than $50,000\n",
        "greater_percent = n_greater_50k/n_records #n_greater_50k/n_records=34014/45222\n",
        "\n",
        "# Print the results\n",
        "print(\"Total number of records: {}\".format(n_records))\n",
        "print(\"Individuals making more than $50,000: {}\".format(n_greater_50k))\n",
        "print(\"Individuals making at most $50,000: {}\".format(n_at_most_50k))\n",
        "print(\"Percentage of individuals making more than $50,000: {}%\".format(greater_percent))"
      ]
    },
    {
      "cell_type": "markdown",
      "metadata": {
        "id": "WsaX3QOEPdGh"
      },
      "source": [
        "** Featureset Exploration **\n",
        "\n",
        "* **age**: continuous. \n",
        "* **workclass**: Private, Self-emp-not-inc, Self-emp-inc, Federal-gov, Local-gov, State-gov, Without-pay, Never-worked. \n",
        "* **education**: Bachelors, Some-college, 11th, HS-grad, Prof-school, Assoc-acdm, Assoc-voc, 9th, 7th-8th, 12th, Masters, 1st-4th, 10th, Doctorate, 5th-6th, Preschool. \n",
        "* **education-num**: continuous. \n",
        "* **marital-status**: Married-civ-spouse, Divorced, Never-married, Separated, Widowed, Married-spouse-absent, Married-AF-spouse. \n",
        "* **occupation**: Tech-support, Craft-repair, Other-service, Sales, Exec-managerial, Prof-specialty, Handlers-cleaners, Machine-op-inspct, Adm-clerical, Farming-fishing, Transport-moving, Priv-house-serv, Protective-serv, Armed-Forces. \n",
        "* **relationship**: Wife, Own-child, Husband, Not-in-family, Other-relative, Unmarried. \n",
        "* **race**: Black, White, Asian-Pac-Islander, Amer-Indian-Eskimo, Other. \n",
        "* **sex**: Female, Male. \n",
        "* **capital-gain**: continuous. \n",
        "* **capital-loss**: continuous. \n",
        "* **hours-per-week**: continuous. \n",
        "* **native-country**: United-States, Cambodia, England, Puerto-Rico, Canada, Germany, Outlying-US(Guam-USVI-etc), India, Japan, Greece, South, China, Cuba, Iran, Honduras, Philippines, Italy, Poland, Jamaica, Vietnam, Mexico, Portugal, Ireland, France, Dominican-Republic, Laos, Ecuador, Taiwan, Haiti, Columbia, Hungary, Guatemala, Nicaragua, Scotland, Thailand, Yugoslavia, El-Salvador, Trinadad&Tobago, Peru, Hong, Holand-Netherlands."
      ]
    },
    {
      "cell_type": "markdown",
      "metadata": {
        "id": "0YVx9BpQPdGh"
      },
      "source": [
        "----\n",
        "## Preparing the Data\n",
        "Before data can be used as input for machine learning algorithms, it often must be cleaned, formatted, and restructured — this is typically known as **preprocessing**. Fortunately, for this dataset, there are no invalid or missing entries we must deal with, however, there are some qualities about certain features that must be adjusted. This preprocessing can help tremendously with the outcome and predictive power of nearly all learning algorithms."
      ]
    },
    {
      "cell_type": "markdown",
      "metadata": {
        "id": "a32srEMvPdGh"
      },
      "source": [
        "### Transforming Skewed Continuous Features\n",
        "A dataset may sometimes contain at least one feature whose values tend to lie near a single number, but will also have a non-trivial number of vastly larger or smaller values than that single number.  Algorithms can be sensitive to such distributions of values and can underperform if the range is not properly normalized. With the census dataset two features fit this description: '`capital-gain'` and `'capital-loss'`. \n",
        "\n",
        "Run the code cell below to plot a histogram of these two features. Note the range of the values present and how they are distributed."
      ]
    },
    {
      "cell_type": "code",
      "execution_count": 29,
      "metadata": {
        "id": "mUZ32Z8BPdGi",
        "colab": {
          "base_uri": "https://localhost:8080/",
          "height": 391
        },
        "outputId": "f9aa61c2-b1f3-4dfa-ef43-869b0f1a7a31"
      },
      "outputs": [
        {
          "output_type": "display_data",
          "data": {
            "image/png": "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\n",
            "text/plain": [
              "<Figure size 792x360 with 2 Axes>"
            ]
          },
          "metadata": {
            "needs_background": "light"
          }
        }
      ],
      "source": [
        "# Split the data into features and target label\n",
        "income_raw = data['income']\n",
        "features_raw = data.drop('income', axis = 1)\n",
        "\n",
        "# Visualize skewed continuous features of original data\n",
        "vs.distribution(data)"
      ]
    },
    {
      "cell_type": "markdown",
      "metadata": {
        "id": "AckHk4JUPdGi"
      },
      "source": [
        "For highly-skewed feature distributions such as `'capital-gain'` and `'capital-loss'`, it is common practice to apply a <a href=\"https://en.wikipedia.org/wiki/Data_transformation_(statistics)\">logarithmic transformation</a> on the data so that the very large and very small values do not negatively affect the performance of a learning algorithm. Using a logarithmic transformation significantly reduces the range of values caused by outliers. Care must be taken when applying this transformation however: The logarithm of `0` is undefined, so we must translate the values by a small amount above `0` to apply the the logarithm successfully.\n",
        "\n",
        "Run the code cell below to perform a transformation on the data and visualize the results. Again, note the range of values and how they are distributed. "
      ]
    },
    {
      "cell_type": "code",
      "execution_count": 30,
      "metadata": {
        "id": "sq5oHmK9PdGi",
        "colab": {
          "base_uri": "https://localhost:8080/",
          "height": 391
        },
        "outputId": "266ce625-b21c-46e3-d2d2-992dd5cc0cd9"
      },
      "outputs": [
        {
          "output_type": "display_data",
          "data": {
            "image/png": "iVBORw0KGgoAAAANSUhEUgAAAxAAAAF2CAYAAAD+y36TAAAABHNCSVQICAgIfAhkiAAAAAlwSFlzAAALEgAACxIB0t1+/AAAADh0RVh0U29mdHdhcmUAbWF0cGxvdGxpYiB2ZXJzaW9uMy4yLjIsIGh0dHA6Ly9tYXRwbG90bGliLm9yZy+WH4yJAAAgAElEQVR4nO3deZgsVX3/8fcHEETcUBAR0KsEFWJcAXHHHUVF0RhM0Isbmp+4xCzuQtyNW3APCl6MBKO4EYIKomhckE1FRFDUi1x2QZF9Pb8/zmlu3749MzVzp6dneb+ep5+Zqjpddaq6ur71rXOqOqUUJEmSJKmL9cZdAUmSJEkLhwmEJEmSpM5MICRJkiR1ZgIhSZIkqTMTCEmSJEmdmUBIkiRJ6swEYglKsk+SkuQvxlyPZUkOSHKvcdZjKknWS/LvSS5IcnOSr467TusqyYokKzuUW9n2lZLkxiSXJvlxkvckWTbT+Q6854Akj5vme1YmWdE3POv79ET1msk6zidJ7prkyCSXtW32minK3z3JR5P8Osm1Sa5MclKSNyW5w4jqOOGxYfCzX+ySPCzJF5Kcn+T69h08NsnyJOuPu36jkGTXvuNOSXJNklVJjk7ykiQbznC+I4k5SY4fqG/vtWo2l9O3vNck2XMU85a62mDcFdCStgzYH/g+8NvxVmVSzwFeDfwj8CPg0vFWZ859EzgACHBH4MHAS4H9kjy/lPKVvrJvBw6c5vz3B94JfHsa73kW8OdpLme6JqrXTNZxPnkr8BhgH+ACYOVEBZM8GjgSuBj4MHA6cCtgF+AVwGbAP4ygjsuY+NgwF5/9vNCSuw9S98HXAecAmwJPAj4B/An42tgqOHqvAk6i7nN3A54IfIx67HliKeWSac5vGaOLOacBLxsYd90sL6PnNdR1+PKI5i9NyQRCC0KSALcqpVw/hsVv3/7+eynl5nWdWZKNSimjCiyj8IdSygl9w19PciA1sTgsyb1LKasASim/GWVFetuulPKTUS5nMqNexzmwPfCzgcRvLUk2BY4Afgk8oZRyVd/kY5J8AHj46Ko53Dg/+7nUkrcPAh8tpbxqYPLXknwQ2GTuazanfjlw7PnvJAdTE6pDgKePp1pDXTFQ1wVlAcYljVspxdcSe1GvPBbgLyYpcyvgHdSrk9e3v++gnsT3l7sXcDRwNfUq5QeAfdv8l00y/11bmcHXrm36SuBzwIuAM4EbgGe1af8KnEq9CvkHajDZZYL5PwP4aCv3hzbPOw6UfTX1JOka4I/AyX3LWjmkjvu0aVsCn23zvY56BWrvCbb1o4EvUq8Y/nRgHZ8PnNWW/3/AdtQTg/+gtnZc1LbrBgPz3hz4JHBeW/6ZwL5DtvXj2/a6FvgN9SrZCmBlh31lJfC5CaY9oK3b2/vGrTFf6kWKt7flXtu21feBR7bpw/aBA/rmtQp4GPDDtn0O7KvXigm281eBK9u2+xiw8ZD9YtcJPqdlHeu1cuD909kXdgEOo+6/51Ov7N+66zab5LMKtTXgLOp39gLqvn/7Nn3ZBOs19HsK/HObvmPH48qsbAO6HRuGffZTbddOn33X49805/e3wE+o++WfgZ8DL5tie/5v25a3nqxcX/l7tvW/pG3/n9KOY31lDmh1267N/0pqq8ZbgfX6yt0W+Ajw+zavi4FvAfcd2Jf2meC4u2vfuCdTv7+Xt+WdBbx1inXpzecJE0z/UJu+bd+4/agtxJdRj7MnALsPmedE+9Ve1FhySavnT4DlHbf98cD3pyjzAGpr3h+px7IfAI8aKLMTNWlf1cqcBbyLNY9hK4esw4qJjk199Tt+yLbYE/hUW+c/9U3fF/gZq48/BwN3GpjnhHHT19J42QKhiRwKPJd68Po+9Urjm6gJw98CtH6oxwIbAX9PPQi9hNrlZyqnUrtAfIzVzdQAZ/SVeSzwQGrCcDGru1psRQ0gq6gn2nsD30vykFLKzweWcyBwVKvzfYB/A24Clrd1+DvqyfnbqCfvGwP3B+7U3v+sVr99qCeyAL9JsgnwXWp3gjcC57Z6/GeS25RSDhqox2HA4W3b9H/vHg1sS+2esCHw78CXqM3rZ1OD2qOBN1NPKD/e6n176ueyMfWk4HfUQP2JdiXpI63c9tQE7+Q2r41a+du27TBjpZSfJTkfeMQkxV5HPal9E/WE5vbAjqzevg+jBv0V1IQJ6ufacwfg88D7qdv5mimq9TngC9TttDP1xGgT6uc3HVPV6xYz2Bf+k7ov7NmWcwA1AO/fpk+1zSbyTuAN1O/U/wA7UBORByR5DDWheFhbn5uA/9fed8EE83sicEEp5eQpljvb26DLsWGYqbbrdEx5/OsqySOp++WHqUnZesB9qd0BJ3rP+tTj31dLKdd2WMY2wI+px8l/oB6L/wb4UpJnllKOHHjLV4DPUI+jT6ceY89t42jjn0H9LH8N3Jn6PZ+wzhPU617Uk+YjqMfY66nJy7reg3A0tRvPI6jHRahJzaepcWID6nodleQppZRvMPV+da9Wz/cAN1OPu59OsnEp5ZNdKpVk8JzqplJKSfJganz5CbX759XAy4FvJXl4KeWUVv7u1O/8CuAK4C+px7B7UY/fUGPS0dQT/APauOl25er5CPB16kWsW7d1eA+1u25vf92Kmjzfr9X1pg5xU0vBuDMYX3P/YooWCOB+9F1x7Rv/5jb+/m2419Kwc1+ZUA9sE17Z7Cu7KxNcZaIGgauBu04xj/WpweIs2tXpgXkfOlD+o9SrKukbPnWKZbyjflXWGLcfw68+fosaxNcf2NYfmmAdLwPu0DfuVa38pwfKngp8p2/4LW09thso9ynqFaMN2vBhbXiTvjLb0K6qdthXVjJBC0Sb/iNqN4Pe8ArWbIE4CvjyFMsowDuGjF/Rpu0xQb1WDNmnPzlQ7k3Uk+V7D+wXg59b7/3LOtarfx2nuy/860C5o4BfTWebDanTnahXilcMjN+7LfMZfeO+T9/VyEnm+UvgRx2XP9vboPc5TXRsGPbZd53npJ893Y9/Xef3T8Bl0/w8t2jzeHfH8gdTTyLvPDD+WFqLZxs+oM33hQPlfg4c0zd8OvDBSZa3jA4tENQLJoXWCjaN9Z/w82/T79Omv26C6etR48IxwNe6znfI+z9F7e43VX2PZ3jrxkva9OOo36cN+96zfhv31QnmmVaHvakJzZ37pq1kyHGZ6bdAfGXI53oTAy1E1EStAM9sw1PGTV+L/+VTmDTMo9vfzw2M7w0/pv3dBfh9KeXEXoFSSqFeQb9Fe4rRBn2vrvvdCaWUCwdHJnlCku8kuRS4kdq96d7UoDLofweGf069Cr9FGz4JeGCSj7T53qZj3R4NnFdKOX5g/OeoXYt2GBg/UX/zH5VSLu8bPrP9/eZAuTOpJ/49u1GvOP6uf9u29925b/kPA44uff3XSynnUpvPZ0OogWUiJwFPTfLOJI+cwdNTbqCeCHb1hYHhz1NPBnae5nKnY7r7wrB98u59wzPZZrtQW7AGv7Ofp35HHrPWO2bXbG+DmZiteXY9/nV1ErBpks8leVqSaV3F72g36lXpy4ccDx7QWiz7DW6r01l7H9wnyRuT7LgOT3v6KfU7/Pkkz0lylxnOZ1Da31uOPUkekuSoJBexOi48keFxYe0ZJtslOTzJee29N1Bb1Du9n3rhbKeB11eTbEzdZ74I3Nz32YSaYPf2N5LcPsl7k/yGekHgBmrLWqgtN7NtMC49kXq8PGxgP/oxtUWkV9eZxk0tIiYQGqbXDDnYteHCgelbUq8uDrpoYPgQVh+Qb2jDXazVtaI1BR9N7aP6YuqJ007Ug/eth8zjsoHh3k1ivbKfpXa/eig12F6W5MsZ8ojSAXcaVj/W3kY9E3UT+ePA8PWTjO9fv7tQD+Y3DLy+2Kbfuf3dkrU/DyYYNxPbMPG6Qe0Csj+1O8T/AZcm+UySzTrO/5JSynS6Wg2uV294q2nMY7qmuy8M2yc36hueyTYb+p0tpdxIvRdkJl0LzgXu0bHsbG+DmZiteXY9/nVSSvku8NfU78pXgEuSfCvJ/Sd526XU7npdt/9dgBew9vHgfW36nQfKD9tW/ceXV1K7ur2IerJ4cZIPTfdEsZRyNrVr5XrUE+ELk5zQutSti97FlAvgli5cx1E/m1dSu5ztBHyD4XFhDUluS22teQDweuBR7f2H0H0furKUcvLA6w+tTutTW40HP5/9qMll71zsM9SuTR+mnszvRO12RZf1mIHBfbyX4J09pK63Y/V+NNO4qUXEeyA0TC+43JXV/Ut7w/3TL2DtK4uw+up+zwHUJs+eP3Ssx7Ar28+mXl3as5RyQ29ke2LMnzrOd/UCaovJfwD/0ebxJGrfzv+mHhwnchnDr0wNbqNbFjXduk3hUmry9uoJpp/V/l7A2p8HE4ybliQPpD5a8dMTlWmf0XuB9ya5K/A06pNlbkPtoz2V6W63LYBfDAxDvdEcarcvqFfr+w2eYE3HdPeFSc1wm/V/Z29Z/3b18M7TrUPzLeCJ7d6iU6YoO6vbYES6fvZdj3+d96VSyhHAEe1EdVfq5/uNJFuXIU92K6XcmOR46vbv8nScS6nJ5nsnmH7+FO8fXP6V1Ptp3pDkHtSuSO+hXsh4HdNb9+8A30myEbUrzNuA/02yrJ1gz8Tu7e/329/dqPdLPbe0J8IBTCPheRg1WXtUKaU3z2H3NMzEn6hdkD5GPfFeSynl5iS3Bvagdp275THRSf5qGsu6lrU/E6ify7DHjw8eX3tlnsTaF7Fumb4OcVOLiC0QGuZ77e9eA+P/rv09vv09Abh7klu6h7THrT67/02llJUDV2VWtkm9oLjxNOp2G2ofzf6m68ex7t0fKKX8sZTy39RuMPebovh3ga2TDN5A/LfUE/upbvhcV9+g3oj5+yFXvU4upVzRyv2I2h3mlsc9tqt1k934PKV2IvQx6n0q/zFFcQBKKReWUj5NPTHt377XM719YDLPHRjeixq8f9yGz2l/Bz/f3Vlb13qNbF+YZJsNOoFa38Hv7N9QLxQdP4PFf5qa7H+0f//pSXKbJE9og7O9DWZybJhK18++6/FvOvsSUE/MSylHUb8zWzJ54vqeNv3fhk1Mcs++VoxvUG9i/cUEx4MZP56zlHJOKeUD1C5hvXW9iPoZTWfdryulfLutzybUp0ZNW5KHUa/Sf7WU8rs2upco9F9UujdrH+cm2q+GvX9T6gn9OmndR/+P2rpx6rDPpxXdiNpSccPALPYZMtvrGP7dOAfYIsnmvRFJtqV7N6xjqcfLu0+wH/1u8A3TjJtaRGyBWNp2SzJ4j8HlpZRjkxwOHNCuwPyQeoXmLcDhZfWTjlZQr0Z9OcmbWP0Upk3b9Kl+M+FX1NaEFyW5jHpQPKvv5HeYb1CfvrEiyWeo9z68hdVXmKclyUHUvp0/op7o3Jv6RIpjpnjrCurV/966r6KeYDyR+njGdXrCUQcfop4c/l+SD1FbHDahJhWPKqX0At87qN0njknyPurVqQOYXhemzZLsQu2HewdW/5Dc5sDzSikTXt1M8jVq97JTqVe0HkS9WtifdJwB7J7kG63M+ZPNcwpPbet5DPW+h/2Bz5ZSfg1QSrkgyXepV1b/QP3M92b4U2G61msFs7gvdNxmayilXJb6uwxvSHIVtZvf9tTP//us3ed9Sm2ez6Y+RefUJB9h9Q/J7Uw9iTuCmtysYHa/DzM5Nky1Pp0++1LK6V2Of13nl+Rt1Jaw71BbAramPizhp2WSH0IrpXwvyWuBDybZgbqNf089vj6eeqz9W+rjct8KnEh9Gt1HqTfZbko9obtXKeVF09lWSX5E/dx/Tu0u+hjqCfChrW4lyX8DL07yK+rxZ3dq60r/fF5O7Wp5NLVL3GbUlo3zqfvSVLZPciX1XGVL6pXu51O/my/tK/ct6v7y2fY92JL6ZKnfs+aF0qH7FfUz/jPwsST7U4+lb6Ym0LPxa+uvpSam30z9HYsLqNviwdQHDLy+lHJ5khOAf0xyQVv2ixje/fIM4FFJnkbtWveHdmHui9Qnr30u9XdCetu7U0tPKeU3Sd5LvWhwH+qFgWupXcaeSH24x3fWIW5qMZmNO7F9LawXq58SMux1eiuzIfXk4xzqFZFzGP47ENtSg8M11ATiQGpSUeh7utAkdXkZ9ZGlN7L2s94n+v2BV1IfW3oNtX/uE5j4KRNPmGDdl7Xh5e29F1ODye+oJ+e373vPWk9hauO3pPbr7fLc+7WeeDVsHSep9wpg1cC4TVtdf0e9+nwx9UrXawbKPYH6+MDr2rae7u9A9PaNm6gntCdRr47eY0j5NeZLfRzgCazu030WNYHpf57+I4BTqIHqlqffDFvngXqtGLKdH039Zd4rqV1N1vgdiFZ2a+pjTv9EDb7vop6M3bJfdKjXyoF5znhfaNujTGebTbBNhv0OxMcYeAIOHZ/C1Ff+HtQuiL0bO69s+8DrWfN7MmvboMOxYdhn32WeXT/7rse/KedHPbH+Zvs8rqOeSB8M3K3j9n849cTwglaXy6gnanuz5m83bE1tNTqv7/M/tv8zYPVTmAZ/U2YFa35v30s9ZlwOXEVNJF418J479n3el1F/k2b3gc/qYdTv47lt3S9o63KfKdZ5V9aMS9e29Tqaeu/bhkPe81zqwyaupXbj22twvabYrx7X1vka6r7+qmH70AT1PZ6pfwdie+pDDXqxZhU1SXtqX5ll1MeqXtHKfXRwm7Zy96Ue66+m73cg2rRnUpOza6gXIp5Ex/jYN/351GPQVdTv+y9bXbZu06eMm74W/6v3KEtp1iQ5Cti+lLLtuOsiSZKk2WUXJq2T1sR+JfXHhm5H7S6zO/UJDZIkSVpkTCC0rq6jdpu4O/UGsLOoP55z8FhrJUmSpJGwC5MkSZKkznyMqyRJkqTOTCAkSZIkdWYCIUmSJKkzEwhJkiRJnZlASJIkSerMBEKSJElSZyYQmlSSFe2Xpdd1PgckOX026jTFcpYlKUl2HPWylrIk+yS5ckTzPj7JR/uGVyb5pxEta2TrIS0VcxknZmtZGo1RxvrBWNBi/XNGtKw5OWdZyEwgFpB24Dxgjhf7amDvvjqscXI3D50LbAn8tOsbkuyaZOUUZVa2g1X/60/rWNf++Y/9YNW2Q2/dbk7y5ySnJTkwyT0Hiv83cK+O851uUrcn8Ibp1L1jPYYFm87rIS0ExonZ0y4wHD9FmcG4UJJ0jj8d6jD2hKlth9663ZTkT0lOTvLOJHcZKP5+4DEd59uLOZt1rMpOwMenU/cOdZgoPnVej6XKX6LWpEopl4+7DtNRSrkJuHBEs38b8Im+4ZtHtJx1kmTDUsr16zCLvwQuA24LPAB4DfDzJLuXUr4LUEq5BrhmnSvbp1fvUsplsznfyYxiPaSlZqHFiRF4KdB/kn/DuCoymSS3KqXMtG5XA9sCAW5PPZl/HfDSJI8ppfwSoJRyJTCrrbp9seGS2ZzvZEaxHouNLRALWJINk7wryTlJrkvy2ySvatPWT3Jwkt8luSbJr5P8S5L1+t6/IslRSd6c5KIkVyb5TJKNB8v0/qdm5K/ouxqxrMuyOq7PJkk+2+pxUZI3tPqt6Cuzd5KTklyR5OIkX0yyVd/0Na4m9F3heHySHye5ul05efAMNvkVpZQL+14Xt2Wkre9v2vr/PMne/W9M8p4kZ7XpK5P8W5Jbt2n7APsDf9m3Xfdp09a6ap7hzbivSPLlJFcB72rjn57klCTXts/mnUk27LCeF7f1O7uU8iVgV+AnwCFJ1u/VOX1df5Jsk+RrSS5r2/jMJHu1yb9rf09qdT2+vae3/70uySpgVRs/7OrlbZN8ru0bF2agS9NU2ymrW5i+2MquHLYebdzLkpyd5Pr296VDlrVv2/euat+7NT5vab7IIosTQ9ZvoyT/3up2bZITkjyyb/qtknw4yflt/c9N8p6+6XumtrRe045f302yxTSr8aeB2HBpm/eGSd6bZFU7Lp6U5Ml9y550m6S2JC0Hdu/blrtmgqvm/cfBvjLPS/LtJNcAL2vTXpjkjLa9fpXkHzp8DqWt2wWllLNKKZ8DHgb8CfhkXx3WaE1P8ldJjktt0b4yyc+SPDbJMuA7rdglra4r2nuOT/KJJO9PcgnwgzZ+WHfWuyb537Z9z+k/FnfZTkwcnwbXY70kb2n7z3WpcX6PIct6dpJjW33OSPLEKbbrgmULxMJ2KPAoavPxT4B7ANu0aesB5wHPBS4BdgYOAi4FDu6bx2OoV2AfD2wFHAK8F3jVkOW9Grg3cCbwxjbukmksayofaPV5FnA+8Ja2fl/pK7Mh9WT7TGCzVtfDgUdPMe93U6+WXAAcCByWZIdSSplG/SbyDuA5wCuAs6gH1U8l+WMp5X9bmauAF1G30w7UA+511HX8b+B+wNOoJ+sA072itz/1M/knoLQgdRj1M/secPe2zI1amc5KKTcl+RDwJeBBwMlDin0cuDXwWODPwH36pu0MnAjsBvwM6G8deQx1XXejXtmayGupn/Xb2jI+kuS3pZQvd1yNnYCLWX2l8KZhhZI8C/go8A/AMcCTgY8nubCU8j99Rd8KvJ7a1erF1OTqe6WU33esjzRXFlucGPRvbZ4vAn5LPVZ8I8l2pZQLWh2fBewFrAS2ph2fktwV+Dz1e/wlaqvrLutQl0GfoV61/1vqBZKnAv+TZKdSys+Yepu8H9geuBPw/DbPy4C7TaMO76Ye818M3JB6QeRtwCuBU6ix51PUVpNpdTsrpVyZ5JPAB5JsPkELwX9Rj/s7AzcCfwVcS+1u/Gzqdu+1eve3Bu9N3RaPYvLY8K/U/ewfgL8GPpvkzFLKsDg1zGTxqd+rgX8GXk6NgXsDX07ykFJKf5e1d7Zy/w94M/D5JPdoLRqLSynF1wJ8AdsBBdhtGu95D/CtvuEV1KsHt+0btzf1xHaTvjJH9U0/HvjoDJZ1AHD6JOVvS/3i7tU3bhPgj8CKSd5337Ydtm7Dy9rwjm141zb85L73PKL/PR233cq2Xa7se72x1fEa4FED5f8dOHqS+b0cOHuq7dPq+ZwhdfmngTIfGSjzPeAtA+Oe2eqdCerU21abTbKdn9uG9wGu7Jt+GrD/BPNd4zMZ2P8uATYaGL/GPtbW99iBMp8Gvj+D7TRYZnA9fgAcMqSeg8t6d9/wBtTm/b277k++fM3Fi0UWJwaXRT3+Xg+8oG/6+sBvgHe04Q8Dxw077gEPbtvnHuuwjQs1BvTHhr+jJg43A3cfKP9V4OPT3P5HDZSZ6Jh6yzGur8w/DpT5PfD8gXGvAc6YpE5rHCcHpu3WlrPzsM+QekFp+QTv3ZUhMaftP6cNKb+StY/pnxoo8y3gczPYToNlBtfjPOCtQ+o5uKyX9U3fqo175Ez3r/n8sgVi4XoQ9eD0nYkKJHk58BLqFaeNgVsB5wwUO62smRn/iHqVf1vqSWEnHZfVK/so4Ot9o14GnN7ec2JvZCnlqgzcWJza9Wh/4IHUqzK9KxN3p3WBmUD/upzf/t5livcM+iBrXim7jNqacGvqFa/+1oxbUQ92vXo/h3qQ/gtqsrR+e82WwastDwF2TvK6vnHrUT+bu1JbYqajt50narE5EPhkkt2owforpZRTOsz39FLKdR3K/WjI8J4d3jdd21Ovrvb7PvCMgXG37E+llBtbM/vgzYTSuC2qOFFKOWyg2LZtHj/ojSi1xfRH1GMz1BPwY4FfJTkGOBr4einlZuoV528Bp7dp3wKOKNPva//PwDf6hi9idavqGckaF9A3Ar7dt56dt8kM3RIbkmxObX36jyT99/NtwORX+SczVWz4IPDpJMupseFLpZQzO8y3S/yA4bFh947v7STJ7amtPj8YmPR9aqtSv4nONRYdE4hFKsnfUK+C/xPwQ+pVgFdQm3LHvayTqQlAz0V0eBJOkk2Ab1IP8s+ndknZDPg/ajCbTP+NY70D3XT73l5aSjl7oE7btX+fTr2ys9Yyk+xCbSb/V2oz65+oJ6Tv77DMwtoH9lsNKXfVwPB6bXlfHFJ2Jjei9YLxb4dNLKUcnOSb1IPpE4AfJnl3KeWAKeY7WO+Z6rqd1mX+/QZvRCx4T5kWmAUYJ6ajXmou5dTW3/7J1C5YhwI/S/LElmw8idpt6UnUbj7vTr0p+GfTWNaFQ2LDeq0OO7H28eKaVmam27/3AI9bjnlJJjre9R9je8eol7flzYYdqOu5ctjEUsoBSQ4DnkL9DPZP8vJSyuCFmkGzERums51masLYUEopLXlclLHBBGLh+il1p3wsa1756Hkk8ONSSv/z9LcdUu6vkmxSSul9WXehNgn/ZoLlXs/aV867Lgu45ck3gwfb31C/eDvRTlKT3IbaP7NXl/tSE4Y3llJ+18qM4ir0dJxBbcq/Rynl2xOUeQRwXinl7b0RSe4xUGbYdoV6sr9l3/u26B+exKnAfQeD2kyk3jj9GurnMOHjCUspq6h9Vg9qLR+vpjYD9/qUrkuLy2C/5F2AX/YNd9lON3Sowy+pn1d/S9MjqZ+ztNAsqjgxxG/ash7Rq0s7Xj2M2ve+N68rgCOAI9qNuidQW4N/VWpfkx8BP0ryNuAXwN9QWyfWxU+oJ653LaVM1ALUZZsM25a9i0D9x7gHMoVSykVJzge2LaV8dqryU0lyW2oy8t3JWm1KKb8Gfg18uLV8vITa0jtbseGQgeFebOiynaasQynlz227PYLaitKzpGODCcQCVUr5VZIvUJsGX009YdwaWFZK+U/gV8A+SZ5CPQjvRb0R7o8Ds9qAegPo26hNdO+h9imcKPtfSe0as4za1/OyaSxrsvW5MskhwHuT/IHaxebN1ODXy/B/Tz1Z3y/Jx6jdTd4+bH5zpZRyRZL3A+9PvdTwPVbfiHdzKeUg6vbZKsnfUQPVk4HnDcxqJXCP1kXr99QnPl1Hbep+RZIfUm/8fRf1BrSpvA04Ksk5wBeoN6/dj9pP9V+meO9dkmzQ1uP+1FaTBwFPLfUxuWtJciC1u8GvqI/4243VB9aLqVfcnpz69KNry/Qf+7hLkjdQTwJ2BV5A7Wfc02U7rQQen+S7wHWllGH75/uoT2o6hXoT9W5tOeNOVKVpW2xxYsj6XdVOSHtx43fU49UWtLFfF4cAAB+0SURBVN8LSPJaajz5KfUiwt9Sr/Svaq3DT6C2bF9EPc5twyycFLZtfxiwIsk/Urf9najHr94DILpsk5XAU5Lch3pz9eWllGuSnAC8rl18uwP1Zuku9qc+hOJP1O5ct6LeC7JVKWWyeaTddE5bXu8xrndg7S6evTdsTG1p/2Jbjy1oSVMrcg41vu+e5H+Aa8r0bzbeM8lJ1PsRnkNtZXoo1CS0w3bqGp/eB7wtya+p3av2pt7gPZMnOi4O474Jw9fMX9S+lP9GvbnnOuoVmP3atA2pV1H/SO0yczD1yTEr+96/gvpEmrdSv0RXUpt3bzNYpm/43tST4KupX/xlHZd1AFPfHHdb4D+pTZcXUZ9ycxzwib4yf9PW81rq/RJPbvXYtU1fxvCbqDfrm8caZTpu65X03bw1MC3UJ1r0WiMuofa5fWJfmXe38VcCXwb+vn791vgsj2jbsAD7tPF3o56YX9nW+9mDdWHIzcFt/JOo3buupgbMk3v7xwTr0dtWvdcV1HtTPgzca6DsPqx58/FHqFeYrm3r+XlqQOpNfwk1MboJOH7YvtVX9njWvon6AOrTtq5s+8brBt7TZTs9vdXxBtq+ObgebdzLqcH8hvb3pQPT19rek+0fvnyN88XiixODy9qI2g3oorZ+J9B30yr1yWuntuPZn4HvAg9v07Zvx43ee88G/mWa23fo8bdNu1Vbp99Sr3RfCBwJPGQa239z6sWMK1gz1m1P7ZN/NfBz6snslDcHt2nPa9vk2rbs79P3AJMh5fdhdVy4mfrkvFOpF2ruMlD2ls+wrd9/sfohJOdTW6lv31f+LdQE72baA1OY4CZ8hse+/aita9dQY8zygfdMup1amWHx6Zb1aMPrtbqe2z7LnwPP7Js+dHtPtn8s9FfaCmoJak25m5VSnjbuugyTZCPqFYr3lVI+MO76SNJSM9/jhKTxsAuT5o0kD6JeLTgRuB21efR21N9JkCRJ0jwwtjvDkxyW+su8pyc5pHdnfKoPp/4C7Gnp+8XgJMtTf6nx1+2RYL3xD0n9VcCz23tn+jgyjd9rqTeffZvaX/LRpd6cK2kJMUZI0vw1si5MSTYtw29S7E1/Kquf8fxfwPdKKZ9o419JfRzkQ4EDSykPTXInah/uHal9yk6h9iP8Y5ITqb82+WPqTUEfLqV8HUnSvGSMkKSFa5QtECe3K0iPG3a1p5RydGmoXVa2bpP2AD7bJp0A3DHJltSbZY8tpVzWgs6xwG5t2u1LKSe0eX2W+ou7kqT5yxghSQvUKO+BuDf1h0P2Az6W5D+pd9if31+oNUs/n/rMeKg//X1uX5FVbdxk41cNGb+WJPsC+wJssskmD7nvfe877ZU65dJLp1X+IXe+87SXIUlz5ZRTTvlDKWXzMSx6XsWI2YgPYIyQtLhMFCNGlkCU+rz4o6jPot+c+hjL3yd5eCnlxL6iH6c2Tf/fqOrSV6eDqI8QY8cddywnn3zyFO9YWw49dFrlT16+fOpCkjQm7bdC5tx8ixGzER/AGCFpcZkoRoz0Juokd0jyMupzj7cDXgSc1jd9f+ozjl/b97bzqD/k0rN1GzfZ+K2HjJckzWPGCElamEaWQCT5HPWHRu4JvKCU8phSymdLKde26S+h/SJvKeXmvrceCbygPWljF+qvLl5A/aXIJyXZNMmm1B/J+mab9ucku7R+tC8Avjaq9ZIkrTtjhCQtXKO8B+IL1F/TvXGC6Z+k/kjYj9r9c18upbyN+oSMp1J/EfJq4IUApZTLkrwdOKm9/22llMva//+P+uuUG1Of2uHTNSRpfjNGSNICNcp7II6cYvrQZbenZLxigmmHAIcMGX8ycL8ZVFOSNAbGCElauMb2Q3KSJEmSFh4TCEmSJEmdmUBIkiRJ6swEQpIkSVJnJhCSJEmSOjOBkCRJktSZCYQkSZKkzkwgJEmSJHVmAiFJkiSpMxMISZIkSZ2ZQEiSJEnqzARCkiRJUmcmEJIkSZI6M4GQJEmS1JkJhCRJkqTOTCAkSZIkdWYCIUmSJKkzEwhJkiRJnZlASJIkSerMBEKSJElSZyYQkiRJkjozgZAkSZLUmQmEJEmSpM5MICRJkiR1ZgIhSZIkqTMTCEmSJEmdmUBIkiRJ6swEQpIkSVJnJhCSJEmSOjOBkCRJktSZCYQkSZKkzkwgJEmSJHVmAiFJkiSpMxMISZIkSZ2ZQEiSJEnqzARCkiRJUmcmEJIkSZI6M4GQJEmS1JkJhCRJkqTOTCAkSZIkdWYCIUmSJKkzEwhJkiRJnZlASJIkSerMBEKSJElSZyYQkiRJkjozgZAkSZLUmQmEJEmSpM5MICRJkiR1ZgIhSZIkqTMTCEmSJEmdmUBIkiRJ6swEQpIkSVJnJhCSJEmSOjOBkCRJktSZCYQkSZKkzkwgJEmSJHVmAiFJkiSpMxMISZIkSZ2ZQEiSJEnqzARCkiRJUmcmEJIkSZI6M4GQJEmS1JkJhCRJkqTOxpZAJDkkycVJTu8bd0CS85L8tL2e2jftDUnOTnJWkif3jd+tjTs7yevnej0kSbPPGCFJ89c4WyBWALsNGf+hUsoD2+togCQ7AHsBf9ne8/Ek6ydZH/gY8BRgB+B5rawkaWFbgTFCkualDca14FLK95Is61h8D+DzpZTrgN8lORvYuU07u5TyW4Akn29lz5jl6kqS5pAxQtJClkMP7Vy2LF8+wpqMxny8B2K/JKe15utN27itgHP7yqxq4yYaL0lanIwRkjRm8y2B+ASwLfBA4ALgA7M58yT7Jjk5ycmXXHLJbM5akjR6I4sRxgdJ6m5eJRCllItKKTeVUm4GPsXqJujzgG36im7dxk00fqL5H1RK2bGUsuPmm28+u5WXJI3UKGOE8UGSuptXCUSSLfsGnwX0nr5xJLBXko2S3BPYDjgROAnYLsk9k2xIvYnuyLmssyRpbhgjJGl+GNtN1EkOB3YFNkuyCtgf2DXJA4ECrAReBlBK+UWSL1BvfLsReEUp5aY2n/2AbwLrA4eUUn4xx6siSZplxghJmr/G+RSm5w0ZffAk5d8JvHPI+KOBo2exapKkMTNGSNL8Na+6MEmSJEma30wgJEmSJHVmAiFJkiSpMxMISZIkSZ2ZQEiSJEnqzARCkiRJUmcmEJIkSZI6M4GQJEmS1JkJhCRJkqTOTCAkSZIkdWYCIUmSJKkzEwhJkiRJnZlASJIkSerMBEKSJElSZyYQkiRJkjozgZAkSZLUmQmEJEmSpM5MICRJkiR1ZgIhSZIkqTMTCEmSJEmdmUBIkiRJ6swEQpIkSVJnUyYQSf4tye2T3CrJcUkuSbL3XFROkjS/GSMkaenp0gLxpFLKn4GnASuBvwD+eZSVkiQtGMYISVpiuiQQG7S/uwNfLKVcPsL6SJIWFmOEJC0xG0xdhKOSnAlcA/x9ks2Ba0dbLUnSAmGMkKQlZsoWiFLK64GHAzuWUm4Argb2GHXFJEnznzFCkpaeCVsgkuw5ZFz/4JdHUSFJ0vxnjJCkpWuyLkxPb3/vQr269O02/FjghxgcJGkpM0ZI0hI1YQJRSnkhQJJjgB1KKRe04S2BFXNSO0nSvGSMkKSlq8tTmLbpBYbmIuDuI6qPJGlhMUZI0hLT5SlMxyX5JnB4G/4b4Fujq5IkaQExRkjSEjNlAlFK2S/Js4BHt1EHlVK+MtpqSZIWAmOEJC09kyYQSdYHflFKuS9gQJAk3cIYIUlL06T3QJRSbgLOSmJ/VknSGowRkrQ0dbkHYlPgF0lOBK7qjSylPGNktZIkLRTGCElaYrokEG8ZeS0kSQuVMUKSlpguN1F/N8kWwE5t1ImllItHWy1J0kJgjJCkpWfK34FI8lzgROCvgecCP07ynFFXTJI0/xkjJGnp6dKF6U3ATr0rSkk2pz7j+4hRVkyStCAYIyRpienyS9TrDTRHX9rxfZKkxc8YIUlLTJcWiG8M+ZXRr4+uSpKkBcQYIUlLTJebqP85yZ7AI9sof2VUkgQYIyRpKZoygUhyT+DoUsqX2/DGSZaVUlaOunKSpPnNGCFJS0+XfqpfBG7uG76pjZMkyRghSUtMlwRig1LK9b2B9v+Go6uSJGkBMUZI0hLTJYG4JMkzegNJ9gD+MLoqSZIWEGOEJC0xXZ7C9HLgsCQfAwqwCnjBSGslSVoojBGStMR0eQrTb4Bdkty2DV858lpJkhYEY4QkLT1TdmFKskWSg4EvllKuTLJDkhfPQd0kSfOcMUKSlp4u90CsAL4J3K0N/wp4zagqJElaUFZgjJCkJaVLArFZKeULtMf0lVJupD6mT5IkY4QkLTFdEoirktyZenMcSXYBLh9prSRJC4UxQpKWmC5PYXotcCSwbZIfAJsDzxlprSRJC4UxQpKWmC5PYTo1yWOA+wABzgJ2HnXFJEnznzFCkpaeCROIJOsDzwW2Ar5eSvlFkqcBBwEbAw+amypKkuYbY4QkLV2TtUAcDGwDnAh8JMn5wEOAN5RSvjoXlZMkzVvGCElaoiZLIHYE7l9KuTnJrYELgW1LKZfOTdUkSfOYMUKSlqjJnsJ0fSml91i+a4HfGhgkSY0xQpKWqMlaIO6b5LT2f6hP2Dit/V9KKfcfee0kSfOVMUKSlqjJEojt56wWkqSFxhghSUvUhAlEKeWcuayIJGnhMEZI0tLV5ZeoJUmSJAkwgZAkSZI0DRMmEEmOa3/fO6qFJzkkycVJTu8bd6ckxyb5dfu7aRufJB9OcnaS05I8uO89y1v5XydZPqr6SpKqUccI44MkzV+TtUBsmeThwDOSPCjJg/tfs7T8FcBuA+NeDxxXStkOOK4NAzwF2K699gU+ATWgAPsDDwV2BvbvBRVJ0siMOkaswPggSfPSZE9heivwFmBr4IMD0wrwuHVdeCnle0mWDYzeA9i1/X8ocDzwujb+s6WUApyQ5I5Jtmxljy2lXAaQ5Fhq0Dl8XesnSZrQSGOE8UGS5q/JnsJ0BHBEkreUUt4+h3XaopRyQfv/QmCL9v9WwLl95Va1cRONlySNyJhihPFBkuaByVogACilvD3JM4BHt1HHl1KOGm21bll2SVJma35J9qU2b3P3u999tmYrSUvWuGKE8UGSxmfKpzAleTfwauCM9np1kneNsE4XtaZn2t+L2/jzgG36ym3dxk00fi2llINKKTuWUnbcfPPNZ73ikrTUzHGMMD5I0jzQ5TGuuwNPLKUcUko5hNp/9GkjrNORQO9JGcuBr/WNf0F72sYuwOWtKfubwJOSbNpujntSGydJGr25jBHGB0maB6bswtTcEbis/X+H2Vp4ksOpN7ltlmQV9WkZ7wG+kOTFwDnAc1vxo4GnAmcDVwMvBCilXJbk7cBJrdzbejfMSZLmxKzHCOODJM1fXRKIdwM/SfIdINR+rq+f/C3dlFKeN8Gkxw8pW4BXTDCfQ4BDZqNOkqRpGUmMMD5I0vzV5Sbqw5McD+zURr2ulHLhSGslSUPk0EM7ly3L/c2wuWCMkKSlp1MXptaX9MgR10WStAAZIyRpaelyE7UkSZIkASYQkiRJkqZh0gQiyfpJzpyrykiSFg5jhCQtTZMmEKWUm4CzkviznJKkNRgjJGlp6nIT9abAL5KcCFzVG1lKecbIaiVJWiiMEZK0xHRJIN4y8lpIkhYqY4QkLTFdfgfiu0nuAWxXSvlWktsA64++apKk+c4YIUlLz5RPYUryUuAI4D/aqK2Ar46yUpKkhcEYIUlLT5fHuL4CeATwZ4BSyq+Bu4yyUpKkBcMYIUlLTJcE4rpSyvW9gSQbAGV0VZIkLSDGCElaYrokEN9N8kZg4yRPBL4I/M9oqyVJWiCMEZK0xHRJIF4PXAL8HHgZcDTw5lFWSpK0YBgjJGmJ6fIUppuTHAr8mNosfVYpxeZpSZIxQpKWoCkTiCS7A58EfgMEuGeSl5VSvj7qykmS5jdjhCQtPV1+SO4DwGNLKWcDJNkW+F/A4CBJMkZI0hLT5R6IK3qBofktcMWI6iNJWliMEZK0xEzYApFkz/bvyUmOBr5A7d/618BJc1A3SdI8ZYyQpKVrsi5MT+/7/yLgMe3/S4CNR1YjSdJCYIyQpCVqwgSilPLCuayIJGnhMEZI0tLV5SlM9wReCSzrL19KecboqiVJWgiMEZK09HR5CtNXgYOpvyx682irI0laYIwRkrTEdEkgri2lfHjkNZEkLUTGCElaYrokEAcm2R84BriuN7KUcurIaiVJWiiMEZK0xHRJIP4KeD7wOFY3T5c2LEla2owRkrTEdEkg/hq4Vynl+lFXRpK04BgjJGmJ6fJL1KcDdxx1RSRJC5IxQpKWmC4tEHcEzkxyEmv2b/URfZIkY4QkLTFdEoj9R14LSdJCZYyQpCVmygSilPLduaiIJGnhMUZI0tLT5Zeor6A+UQNgQ+BWwFWllNuPsmKSpPnPGCFJS0+XFojb9f5PEmAPYJdRVkqStDAYIyRp6enyFKZblOqrwJNHVB9J0gJljJCkpaFLF6Y9+wbXA3YErh1ZjSRpFuTQQ6dVvixfPqKaLG7GCElaero8henpff/fCKykNlFLkmSMkKQlpss9EC+ci4pIkhYeY4QkLT0TJhBJ3jrJ+0op5e0jqI8kaQEwRkjS0jVZC8RVQ8ZtArwYuDNgcJCkpcsYIUlL1IQJRCnlA73/k9wOeDXwQuDzwAcmep8kafEzRkjS0jXpPRBJ7gS8Fvg74FDgwaWUP85FxSRJ85sxQpKWpsnugXgfsCdwEPBXpZQr56xWkqR5zRghSUvXZD8k94/A3YA3A+cn+XN7XZHkz3NTPUnSPGWMkKQlarJ7IKb1K9WSpKXDGCFJS1eXH5KTpE789WdJkhY/EwhJYzPdhEOSJI2fTdCSJEmSOjOBkCRJktSZCYQkSZKkzkwgJEmSJHVmAiFJkiSpMxMISZIkSZ2ZQEiSJEnqzARCkiRJUmcmEJIkSZI6M4GQJEmS1JkJhCRJkqTOTCAkSZIkdWYCIUmSJKkzEwhJkiRJnZlASJIkSerMBEKSJElSZyYQkiRJkjozgZAkSZLU2bxNIJKsTPLzJD9NcnIbd6ckxyb5dfu7aRufJB9OcnaS05I8eLy1lySNivFBksZr3iYQzWNLKQ8spezYhl8PHFdK2Q44rg0DPAXYrr32BT4x5zWVJM0l44Mkjcl8TyAG7QEc2v4/FHhm3/jPluoE4I5JthxHBSVJY2F8kKQ5Mp8TiAIck+SUJPu2cVuUUi5o/18IbNH+3wo4t++9q9q4NSTZN8nJSU6+5JJLRlVvSdJoGR8kaYw2GHcFJvHIUsp5Se4CHJvkzP6JpZSSpExnhqWUg4CDAHbcccdpvVeSNG8YHyRpjOZtC0Qp5bz292LgK8DOwEW9puf29+JW/Dxgm763b93GSZIWGeODJI3XvEwgkmyS5Ha9/4EnAacDRwLLW7HlwNfa/0cCL2hP29gFuLyvKVuStEgYHyRp/OZrF6YtgK8kgVrH/yqlfCPJScAXkrwYOAd4bit/NPBU4GzgauCFc19lSdIcMD5I0pjNywSilPJb4AFDxl8KPH7I+AK8Yg6qJkkaI+ODJI3fvOzCJEmSJGl+MoGQJEmS1JkJhCRJkqTOTCAkSZIkdWYCIUmSJKkzEwhJkiRJnZlASJIkSerMBEKSJElSZyYQkiRJkjozgZAkSZLUmQmEJEmSpM5MICRJkiR1ZgIhSZIkqTMTCEmSJEmdmUBIkiRJ6swEQpIkSVJnJhCSJEmSOjOBkCRJktSZCYQkSZKkzkwgJEmSJHVmAiFJkiSpMxMISZIkSZ2ZQEiSJEnqzARCkiRJUmcbjLsCkiRJ0nyWQw8ddxXmFVsgJEmSJHVmAiFJkiSpMxMISZIkSZ15D4SkCdnnU5IkDTKBkCRJksZkuhfryvLlI6pJd3ZhkiRJktSZCYQkSZKkzkwgJEmSJHVmAiFJkiSpM2+ilqR5ZiHeUCdJWjpsgZAkSZLUmQmEJEmSpM5MICRJkiR1ZgIhSZIkqTMTCEmSJEmdmUBIkiRJ6swEQpIkSVJnJhCSJEmSOjOBkCRJktSZCYQkSZKkzkwgJEmSJHVmAiFJkiSpMxMISZIkSZ2ZQEiSJEnqzARCkiRJUmcmEJIkSZI6M4GQJEmS1JkJhCRJkqTONhh3BSTNrRx66LirIEmSFjBbICRJkiR1ZguEJM3AdFtyyvLlI6qJJElzyxYISZIkSZ2ZQEiSJEnqzARCkiRJUmcmEJIkSZI68yZqaZ7x5tzx8PG2kiR1YwuEJEmSpM5MICRJkiR1tmi6MCXZDTgQWB/4dCnlPWOukiRpnjBGSIub3VDn1qJogUiyPvAx4CnADsDzkuww3lpJkuYDY4Qkza7F0gKxM3B2KeW3AEk+D+wBnDHWWklzwKsu0pSMEZIWjfnwsJXFkkBsBZzbN7wKeOiY6qIFaD58GbW4meiNlTFCGoFRH9eMtfNXSinjrsM6S/IcYLdSykva8POBh5ZS9hsoty+wbxu8D3DWDBa3GfCHdajufOK6zE+uy/y0mNYFVq/PPUopm4+7MqPUJUbMUnyAxbefzBa3y3Bul+HcLhOb620zNEYslhaI84Bt+oa3buPWUEo5CDhoXRaU5ORSyo7rMo/5wnWZn1yX+WkxrQssvvWZwpQxYjbiAyy57dqZ22U4t8twbpeJzZdtsyhuogZOArZLcs8kGwJ7AUeOuU6SpPnBGCFJs2hRtECUUm5Msh/wTeoj+g4ppfxizNWSJM0DxghJml2LIoEAKKUcDRw9B4ta5ybuecR1mZ9cl/lpMa0LLL71mZQxYuzcLsO5XYZzu0xsXmybRXETtSRJkqS5sVjugZAkSZI0B0wgpiHJbknOSnJ2ktePuz4zlWSbJN9JckaSXyR59bjrtK6SrJ/kJ0mOGndd1kWSOyY5IsmZSX6Z5GHjrtNMJfmHtn+dnuTwJLced526SnJIkouTnN437k5Jjk3y6/Z303HWsasJ1uV9bR87LclXktxxnHVcLBZLjJhNizHezKbFErtm02KKg7NpvsVUE4iOkqwPfAx4CrAD8LwkO4y3VjN2I/CPpZQdgF2AVyzgdel5NfDLcVdiFhwIfKOUcl/gASzQdUqyFfAqYMdSyv2oN67uNd5aTcsKYLeBca8HjiulbAcc14YXghWsvS7HAvcrpdwf+BXwhrmu1GKzyGLEbFqM8WY2LZbYNZsWRRycTfMxpppAdLczcHYp5bellOuBzwN7jLlOM1JKuaCUcmr7/wrql3Or8dZq5pJsDewOfHrcdVkXSe4APBo4GKCUcn0p5U/jrdU62QDYOMkGwG2A88dcn85KKd8DLhsYvQfQ+9nVQ4FnzmmlZmjYupRSjiml3NgGT6D+LoLWzaKJEbNpscWb2bRYYtdsWoRxcDbNq5hqAtHdVsC5fcOrWAQHwSTLgAcBPx5vTdbJvwP/Atw87oqso3sClwCfaU3an06yybgrNROllPOA9wO/By4ALi+lHDPeWq2zLUopF7T/LwS2GGdlZtGLgK+PuxKLwKKMEbNpkcSb2bRYYtdsWjRxcDbNx5hqArGEJbkt8CXgNaWUP4+7PjOR5GnAxaWUU8Zdl1mwAfBg4BOllAcBV7Fwusmsod0fsAc1GNwN2CTJ3uOt1ewp9fF1C/4RdkneRO1icti466LFbTHEm9m0yGLXbFo0cXA2zceYagLR3XnANn3DW7dxC1KSW1EP5oeVUr487vqsg0cAz0iyktpl4HFJPjfeKs3YKmBVKaV3de4I6oF0IXoC8LtSyiWllBuALwMPH3Od1tVFSbYEaH8vHnN91kmSfYCnAX9XfJ73bFhUMWI2LaJ4M5sWU+yaTYspDs6meRdTTSC6OwnYLsk9k2xIvXnlyDHXaUaShNq/8JellA+Ouz7ropTyhlLK1qWUZdTP5NullAV5pbuUciFwbpL7tFGPB84YY5XWxe+BXZLcpu1vj2fh3wh3JLC8/b8c+NoY67JOkuxG7TrxjFLK1eOuzyKxaGLEbFpM8WY2LabYNZsWWRycTfMupi6aX6IetVLKjUn2A75Jvfv9kFLKL8ZcrZl6BPB84OdJftrGvbH9UqvG65XAYe0E5LfAC8dcnxkppfw4yRHAqdQuMj9hnvx6ZhdJDgd2BTZLsgrYH3gP8IUkLwbOAZ47vhp2N8G6vAHYCDi2xiJOKKW8fGyVXAQWWYyYTcYbTdeiiIOzaT7GVH+JWpIkSVJndmGSJEmS1JkJhCRJkqTOTCAkSZIkdWYCIUmSJKkzEwhJkiRJnZlASOsoyXeSPHlg3GuSfGKC8scn2XFuaidJGidjhBYjEwhp3R1O/SGgfnu18ZKkpc0YoUXHBEJad0cAu7cfvSHJMuBuwPOSnJzkF0n+ddgbk1zZ9/9zkqxo/2+e5EtJTmqvR4x6JSRJI2GM0KJjAiGto1LKZcCJwFPaqL2ALwBvKqXsCNwfeEyS+09jtgcCHyql7AQ8G/j0LFZZkjRHjBFajDYYdwWkRaLXRP219vfFwHOT7Ev9nm0J7ACc1nF+TwB2SNIbvn2S25ZSrpzkPZKk+ckYoUXFBEKaHV8DPpTkwcBtgMuAfwJ2KqX8sTU733rI+0rf//3T1wN2KaVcO6L6SpLmjjFCi4pdmKRZ0K76fAc4hHql6fbAVcDlSbZgddP1oIuSbJ9kPeBZfeOPAV7ZG0jywJFUXJI0csYILTYmENLsORx4AHB4KeVnwE+AM4H/An4wwXteDxwF/BC4oG/8q4Adk5yW5Azg5SOrtSRpLhgjtGiklDJ1KUmSJEnCFghJkiRJ02ACIUmSJKkzEwhJkiRJnZlASJIkSerMBEKSJElSZyYQkiRJkjozgZAkSZLUmQmEJEmSpM7+PzFadqfWQOyOAAAAAElFTkSuQmCC\n",
            "text/plain": [
              "<Figure size 792x360 with 2 Axes>"
            ]
          },
          "metadata": {
            "needs_background": "light"
          }
        }
      ],
      "source": [
        "# Log-transform the skewed features\n",
        "skewed = ['capital-gain', 'capital-loss']\n",
        "features_log_transformed = pd.DataFrame(data = features_raw)\n",
        "features_log_transformed[skewed] = features_raw[skewed].apply(lambda x: np.log(x + 1))\n",
        "\n",
        "# Visualize the new log distributions\n",
        "vs.distribution(features_log_transformed, transformed = True)"
      ]
    },
    {
      "cell_type": "markdown",
      "metadata": {
        "id": "3NORNBxVPdGj"
      },
      "source": [
        "### Normalizing Numerical Features\n",
        "In addition to performing transformations on features that are highly skewed, it is often good practice to perform some type of scaling on numerical features. Applying a scaling to the data does not change the shape of each feature's distribution (such as `'capital-gain'` or `'capital-loss'` above); however, normalization ensures that each feature is treated equally when applying supervised learners. Note that once scaling is applied, observing the data in its raw form will no longer have the same original meaning, as exampled below.\n",
        "\n",
        "Run the code cell below to normalize each numerical feature. We will use [`sklearn.preprocessing.MinMaxScaler`](http://scikit-learn.org/stable/modules/generated/sklearn.preprocessing.MinMaxScaler.html) for this."
      ]
    },
    {
      "cell_type": "code",
      "execution_count": 31,
      "metadata": {
        "id": "gIv0gQUPPdGj",
        "colab": {
          "base_uri": "https://localhost:8080/",
          "height": 0
        },
        "outputId": "2ba4a82c-facc-473a-feab-d86d40e8cbd0"
      },
      "outputs": [
        {
          "output_type": "display_data",
          "data": {
            "text/html": [
              "\n",
              "  <div id=\"df-443d2d11-b373-4c60-89f4-e5e2664b9825\">\n",
              "    <div class=\"colab-df-container\">\n",
              "      <div>\n",
              "<style scoped>\n",
              "    .dataframe tbody tr th:only-of-type {\n",
              "        vertical-align: middle;\n",
              "    }\n",
              "\n",
              "    .dataframe tbody tr th {\n",
              "        vertical-align: top;\n",
              "    }\n",
              "\n",
              "    .dataframe thead th {\n",
              "        text-align: right;\n",
              "    }\n",
              "</style>\n",
              "<table border=\"1\" class=\"dataframe\">\n",
              "  <thead>\n",
              "    <tr style=\"text-align: right;\">\n",
              "      <th></th>\n",
              "      <th>age</th>\n",
              "      <th>workclass</th>\n",
              "      <th>education-num</th>\n",
              "      <th>marital-status</th>\n",
              "      <th>occupation</th>\n",
              "      <th>relationship</th>\n",
              "      <th>race</th>\n",
              "      <th>sex</th>\n",
              "      <th>capital-gain</th>\n",
              "      <th>capital-loss</th>\n",
              "      <th>hours-per-week</th>\n",
              "      <th>native-country</th>\n",
              "    </tr>\n",
              "  </thead>\n",
              "  <tbody>\n",
              "    <tr>\n",
              "      <th>0</th>\n",
              "      <td>0.301370</td>\n",
              "      <td>State-gov</td>\n",
              "      <td>0.800000</td>\n",
              "      <td>Never-married</td>\n",
              "      <td>Adm-clerical</td>\n",
              "      <td>Not-in-family</td>\n",
              "      <td>White</td>\n",
              "      <td>Male</td>\n",
              "      <td>0.667492</td>\n",
              "      <td>0.0</td>\n",
              "      <td>0.397959</td>\n",
              "      <td>United-States</td>\n",
              "    </tr>\n",
              "    <tr>\n",
              "      <th>1</th>\n",
              "      <td>0.452055</td>\n",
              "      <td>Self-emp-not-inc</td>\n",
              "      <td>0.800000</td>\n",
              "      <td>Married-civ-spouse</td>\n",
              "      <td>Exec-managerial</td>\n",
              "      <td>Husband</td>\n",
              "      <td>White</td>\n",
              "      <td>Male</td>\n",
              "      <td>0.000000</td>\n",
              "      <td>0.0</td>\n",
              "      <td>0.122449</td>\n",
              "      <td>United-States</td>\n",
              "    </tr>\n",
              "    <tr>\n",
              "      <th>2</th>\n",
              "      <td>0.287671</td>\n",
              "      <td>Private</td>\n",
              "      <td>0.533333</td>\n",
              "      <td>Divorced</td>\n",
              "      <td>Handlers-cleaners</td>\n",
              "      <td>Not-in-family</td>\n",
              "      <td>White</td>\n",
              "      <td>Male</td>\n",
              "      <td>0.000000</td>\n",
              "      <td>0.0</td>\n",
              "      <td>0.397959</td>\n",
              "      <td>United-States</td>\n",
              "    </tr>\n",
              "    <tr>\n",
              "      <th>3</th>\n",
              "      <td>0.493151</td>\n",
              "      <td>Private</td>\n",
              "      <td>0.400000</td>\n",
              "      <td>Married-civ-spouse</td>\n",
              "      <td>Handlers-cleaners</td>\n",
              "      <td>Husband</td>\n",
              "      <td>Black</td>\n",
              "      <td>Male</td>\n",
              "      <td>0.000000</td>\n",
              "      <td>0.0</td>\n",
              "      <td>0.397959</td>\n",
              "      <td>United-States</td>\n",
              "    </tr>\n",
              "    <tr>\n",
              "      <th>4</th>\n",
              "      <td>0.150685</td>\n",
              "      <td>Private</td>\n",
              "      <td>0.800000</td>\n",
              "      <td>Married-civ-spouse</td>\n",
              "      <td>Prof-specialty</td>\n",
              "      <td>Wife</td>\n",
              "      <td>Black</td>\n",
              "      <td>Female</td>\n",
              "      <td>0.000000</td>\n",
              "      <td>0.0</td>\n",
              "      <td>0.397959</td>\n",
              "      <td>Cuba</td>\n",
              "    </tr>\n",
              "  </tbody>\n",
              "</table>\n",
              "</div>\n",
              "      <button class=\"colab-df-convert\" onclick=\"convertToInteractive('df-443d2d11-b373-4c60-89f4-e5e2664b9825')\"\n",
              "              title=\"Convert this dataframe to an interactive table.\"\n",
              "              style=\"display:none;\">\n",
              "        \n",
              "  <svg xmlns=\"http://www.w3.org/2000/svg\" height=\"24px\"viewBox=\"0 0 24 24\"\n",
              "       width=\"24px\">\n",
              "    <path d=\"M0 0h24v24H0V0z\" fill=\"none\"/>\n",
              "    <path d=\"M18.56 5.44l.94 2.06.94-2.06 2.06-.94-2.06-.94-.94-2.06-.94 2.06-2.06.94zm-11 1L8.5 8.5l.94-2.06 2.06-.94-2.06-.94L8.5 2.5l-.94 2.06-2.06.94zm10 10l.94 2.06.94-2.06 2.06-.94-2.06-.94-.94-2.06-.94 2.06-2.06.94z\"/><path d=\"M17.41 7.96l-1.37-1.37c-.4-.4-.92-.59-1.43-.59-.52 0-1.04.2-1.43.59L10.3 9.45l-7.72 7.72c-.78.78-.78 2.05 0 2.83L4 21.41c.39.39.9.59 1.41.59.51 0 1.02-.2 1.41-.59l7.78-7.78 2.81-2.81c.8-.78.8-2.07 0-2.86zM5.41 20L4 18.59l7.72-7.72 1.47 1.35L5.41 20z\"/>\n",
              "  </svg>\n",
              "      </button>\n",
              "      \n",
              "  <style>\n",
              "    .colab-df-container {\n",
              "      display:flex;\n",
              "      flex-wrap:wrap;\n",
              "      gap: 12px;\n",
              "    }\n",
              "\n",
              "    .colab-df-convert {\n",
              "      background-color: #E8F0FE;\n",
              "      border: none;\n",
              "      border-radius: 50%;\n",
              "      cursor: pointer;\n",
              "      display: none;\n",
              "      fill: #1967D2;\n",
              "      height: 32px;\n",
              "      padding: 0 0 0 0;\n",
              "      width: 32px;\n",
              "    }\n",
              "\n",
              "    .colab-df-convert:hover {\n",
              "      background-color: #E2EBFA;\n",
              "      box-shadow: 0px 1px 2px rgba(60, 64, 67, 0.3), 0px 1px 3px 1px rgba(60, 64, 67, 0.15);\n",
              "      fill: #174EA6;\n",
              "    }\n",
              "\n",
              "    [theme=dark] .colab-df-convert {\n",
              "      background-color: #3B4455;\n",
              "      fill: #D2E3FC;\n",
              "    }\n",
              "\n",
              "    [theme=dark] .colab-df-convert:hover {\n",
              "      background-color: #434B5C;\n",
              "      box-shadow: 0px 1px 3px 1px rgba(0, 0, 0, 0.15);\n",
              "      filter: drop-shadow(0px 1px 2px rgba(0, 0, 0, 0.3));\n",
              "      fill: #FFFFFF;\n",
              "    }\n",
              "  </style>\n",
              "\n",
              "      <script>\n",
              "        const buttonEl =\n",
              "          document.querySelector('#df-443d2d11-b373-4c60-89f4-e5e2664b9825 button.colab-df-convert');\n",
              "        buttonEl.style.display =\n",
              "          google.colab.kernel.accessAllowed ? 'block' : 'none';\n",
              "\n",
              "        async function convertToInteractive(key) {\n",
              "          const element = document.querySelector('#df-443d2d11-b373-4c60-89f4-e5e2664b9825');\n",
              "          const dataTable =\n",
              "            await google.colab.kernel.invokeFunction('convertToInteractive',\n",
              "                                                     [key], {});\n",
              "          if (!dataTable) return;\n",
              "\n",
              "          const docLinkHtml = 'Like what you see? Visit the ' +\n",
              "            '<a target=\"_blank\" href=https://colab.research.google.com/notebooks/data_table.ipynb>data table notebook</a>'\n",
              "            + ' to learn more about interactive tables.';\n",
              "          element.innerHTML = '';\n",
              "          dataTable['output_type'] = 'display_data';\n",
              "          await google.colab.output.renderOutput(dataTable, element);\n",
              "          const docLink = document.createElement('div');\n",
              "          docLink.innerHTML = docLinkHtml;\n",
              "          element.appendChild(docLink);\n",
              "        }\n",
              "      </script>\n",
              "    </div>\n",
              "  </div>\n",
              "  "
            ],
            "text/plain": [
              "        age          workclass  ...  hours-per-week  native-country\n",
              "0  0.301370          State-gov  ...        0.397959   United-States\n",
              "1  0.452055   Self-emp-not-inc  ...        0.122449   United-States\n",
              "2  0.287671            Private  ...        0.397959   United-States\n",
              "3  0.493151            Private  ...        0.397959   United-States\n",
              "4  0.150685            Private  ...        0.397959            Cuba\n",
              "\n",
              "[5 rows x 12 columns]"
            ]
          },
          "metadata": {}
        }
      ],
      "source": [
        "# Import sklearn.preprocessing.StandardScaler\n",
        "\n",
        "\n",
        "# Initialize a scaler, then apply it to the features\n",
        "scaler = MinMaxScaler() # default=(0, 1)\n",
        "numerical = ['age', 'education-num', 'capital-gain', 'capital-loss', 'hours-per-week']\n",
        "#numerical = ['age', 'capital-gain', 'capital-loss', 'hours-per-week']\n",
        "\n",
        "features_log_minmax_transform = pd.DataFrame(data = features_log_transformed)\n",
        "features_log_minmax_transform[numerical] = scaler.fit_transform(features_log_transformed[numerical])\n",
        "\n",
        "# Show an example of a record with scaling applied\n",
        "display(features_log_minmax_transform.head(n = 5))"
      ]
    },
    {
      "cell_type": "markdown",
      "metadata": {
        "id": "EZy8QLamPdGk"
      },
      "source": [
        "### Implementation: Data Preprocessing\n",
        "\n",
        "From the table in **Exploring the Data** above, we can see there are several features for each record that are non-numeric. Typically, learning algorithms expect input to be numeric, which requires that non-numeric features (called *categorical variables*) be converted. One popular way to convert categorical variables is by using the **one-hot encoding** scheme. One-hot encoding creates a _\"dummy\"_ variable for each possible category of each non-numeric feature. For example, assume `someFeature` has three possible entries: `A`, `B`, or `C`. We then encode this feature into `someFeature_A`, `someFeature_B` and `someFeature_C`.\n",
        "\n",
        "|   | someFeature |                    | someFeature_A | someFeature_B | someFeature_C |\n",
        "| :-: | :-: |                            | :-: | :-: | :-: |\n",
        "| 0 |  B  |  | 0 | 1 | 0 |\n",
        "| 1 |  C  | ----> one-hot encode ----> | 0 | 0 | 1 |\n",
        "| 2 |  A  |  | 1 | 0 | 0 |\n",
        "\n",
        "Additionally, as with the non-numeric features, we need to convert the non-numeric target label, `'income'` to numerical values for the learning algorithm to work. Since there are only two possible categories for this label (\"<=50K\" and \">50K\"), we can avoid using one-hot encoding and simply encode these two categories as `0` and `1`, respectively. In code cell below, you will need to implement the following:\n",
        " - Use [`pandas.get_dummies()`](http://pandas.pydata.org/pandas-docs/stable/generated/pandas.get_dummies.html?highlight=get_dummies#pandas.get_dummies) to perform one-hot encoding on the `'features_log_minmax_transform'` data.\n",
        " - Convert the target label `'income_raw'` to numerical entries.\n",
        "   - Set records with \"<=50K\" to `0` and records with \">50K\" to `1`."
      ]
    },
    {
      "cell_type": "code",
      "execution_count": 32,
      "metadata": {
        "scrolled": true,
        "id": "WRLh9PxHPdGk",
        "colab": {
          "base_uri": "https://localhost:8080/"
        },
        "outputId": "f70ec072-feab-4f3c-cf71-09632fca6b3b"
      },
      "outputs": [
        {
          "output_type": "stream",
          "name": "stdout",
          "text": [
            "87 total features after one-hot encoding.\n"
          ]
        }
      ],
      "source": [
        "# TODO: One-hot encode the 'features_log_minmax_transform' data using pandas.get_dummies()\n",
        "features_final = pd.get_dummies(features_log_minmax_transform)\n",
        "\n",
        "# TODO: Encode the 'income_raw' data to numerical values\n",
        "\n",
        "le = preprocessing.LabelEncoder()\n",
        "le.fit(income_raw)\n",
        "income = le.transform(income_raw)\n",
        "\n",
        "# Print the number of features after one-hot encoding\n",
        "encoded = list(features_final.columns)\n",
        "print(\"{} total features after one-hot encoding.\".format(len(encoded)))\n",
        "\n",
        "# Uncomment the following line to see the encoded feature names\n",
        "# print encoded"
      ]
    },
    {
      "cell_type": "code",
      "execution_count": 33,
      "outputs": [
        {
          "output_type": "execute_result",
          "data": {
            "text/html": [
              "\n",
              "  <div id=\"df-27d85b3b-b4d4-481d-92da-a1b8b516b12e\">\n",
              "    <div class=\"colab-df-container\">\n",
              "      <div>\n",
              "<style scoped>\n",
              "    .dataframe tbody tr th:only-of-type {\n",
              "        vertical-align: middle;\n",
              "    }\n",
              "\n",
              "    .dataframe tbody tr th {\n",
              "        vertical-align: top;\n",
              "    }\n",
              "\n",
              "    .dataframe thead th {\n",
              "        text-align: right;\n",
              "    }\n",
              "</style>\n",
              "<table border=\"1\" class=\"dataframe\">\n",
              "  <thead>\n",
              "    <tr style=\"text-align: right;\">\n",
              "      <th></th>\n",
              "      <th>age</th>\n",
              "      <th>education-num</th>\n",
              "      <th>capital-gain</th>\n",
              "      <th>capital-loss</th>\n",
              "      <th>hours-per-week</th>\n",
              "      <th>workclass_ Federal-gov</th>\n",
              "      <th>workclass_ Local-gov</th>\n",
              "      <th>workclass_ Private</th>\n",
              "      <th>workclass_ Self-emp-inc</th>\n",
              "      <th>workclass_ Self-emp-not-inc</th>\n",
              "      <th>workclass_ State-gov</th>\n",
              "      <th>workclass_ Without-pay</th>\n",
              "      <th>marital-status_ Divorced</th>\n",
              "      <th>marital-status_ Married-AF-spouse</th>\n",
              "      <th>marital-status_ Married-civ-spouse</th>\n",
              "      <th>marital-status_ Married-spouse-absent</th>\n",
              "      <th>marital-status_ Never-married</th>\n",
              "      <th>marital-status_ Separated</th>\n",
              "      <th>marital-status_ Widowed</th>\n",
              "      <th>occupation_ Adm-clerical</th>\n",
              "      <th>occupation_ Armed-Forces</th>\n",
              "      <th>occupation_ Craft-repair</th>\n",
              "      <th>occupation_ Exec-managerial</th>\n",
              "      <th>occupation_ Farming-fishing</th>\n",
              "      <th>occupation_ Handlers-cleaners</th>\n",
              "      <th>occupation_ Machine-op-inspct</th>\n",
              "      <th>occupation_ Other-service</th>\n",
              "      <th>occupation_ Priv-house-serv</th>\n",
              "      <th>occupation_ Prof-specialty</th>\n",
              "      <th>occupation_ Protective-serv</th>\n",
              "      <th>occupation_ Sales</th>\n",
              "      <th>occupation_ Tech-support</th>\n",
              "      <th>occupation_ Transport-moving</th>\n",
              "      <th>relationship_ Husband</th>\n",
              "      <th>relationship_ Not-in-family</th>\n",
              "      <th>relationship_ Other-relative</th>\n",
              "      <th>relationship_ Own-child</th>\n",
              "      <th>relationship_ Unmarried</th>\n",
              "      <th>relationship_ Wife</th>\n",
              "      <th>race_ Amer-Indian-Eskimo</th>\n",
              "      <th>...</th>\n",
              "      <th>native-country_ Canada</th>\n",
              "      <th>native-country_ China</th>\n",
              "      <th>native-country_ Columbia</th>\n",
              "      <th>native-country_ Cuba</th>\n",
              "      <th>native-country_ Dominican-Republic</th>\n",
              "      <th>native-country_ Ecuador</th>\n",
              "      <th>native-country_ El-Salvador</th>\n",
              "      <th>native-country_ England</th>\n",
              "      <th>native-country_ France</th>\n",
              "      <th>native-country_ Germany</th>\n",
              "      <th>native-country_ Greece</th>\n",
              "      <th>native-country_ Guatemala</th>\n",
              "      <th>native-country_ Haiti</th>\n",
              "      <th>native-country_ Holand-Netherlands</th>\n",
              "      <th>native-country_ Honduras</th>\n",
              "      <th>native-country_ Hong</th>\n",
              "      <th>native-country_ Hungary</th>\n",
              "      <th>native-country_ India</th>\n",
              "      <th>native-country_ Iran</th>\n",
              "      <th>native-country_ Ireland</th>\n",
              "      <th>native-country_ Italy</th>\n",
              "      <th>native-country_ Jamaica</th>\n",
              "      <th>native-country_ Japan</th>\n",
              "      <th>native-country_ Laos</th>\n",
              "      <th>native-country_ Mexico</th>\n",
              "      <th>native-country_ Nicaragua</th>\n",
              "      <th>native-country_ Outlying-US(Guam-USVI-etc)</th>\n",
              "      <th>native-country_ Peru</th>\n",
              "      <th>native-country_ Philippines</th>\n",
              "      <th>native-country_ Poland</th>\n",
              "      <th>native-country_ Portugal</th>\n",
              "      <th>native-country_ Puerto-Rico</th>\n",
              "      <th>native-country_ Scotland</th>\n",
              "      <th>native-country_ South</th>\n",
              "      <th>native-country_ Taiwan</th>\n",
              "      <th>native-country_ Thailand</th>\n",
              "      <th>native-country_ Trinadad&amp;Tobago</th>\n",
              "      <th>native-country_ United-States</th>\n",
              "      <th>native-country_ Vietnam</th>\n",
              "      <th>native-country_ Yugoslavia</th>\n",
              "    </tr>\n",
              "  </thead>\n",
              "  <tbody>\n",
              "    <tr>\n",
              "      <th>0</th>\n",
              "      <td>0.301370</td>\n",
              "      <td>0.800000</td>\n",
              "      <td>0.667492</td>\n",
              "      <td>0.0</td>\n",
              "      <td>0.397959</td>\n",
              "      <td>0</td>\n",
              "      <td>0</td>\n",
              "      <td>0</td>\n",
              "      <td>0</td>\n",
              "      <td>0</td>\n",
              "      <td>1</td>\n",
              "      <td>0</td>\n",
              "      <td>0</td>\n",
              "      <td>0</td>\n",
              "      <td>0</td>\n",
              "      <td>0</td>\n",
              "      <td>1</td>\n",
              "      <td>0</td>\n",
              "      <td>0</td>\n",
              "      <td>1</td>\n",
              "      <td>0</td>\n",
              "      <td>0</td>\n",
              "      <td>0</td>\n",
              "      <td>0</td>\n",
              "      <td>0</td>\n",
              "      <td>0</td>\n",
              "      <td>0</td>\n",
              "      <td>0</td>\n",
              "      <td>0</td>\n",
              "      <td>0</td>\n",
              "      <td>0</td>\n",
              "      <td>0</td>\n",
              "      <td>0</td>\n",
              "      <td>0</td>\n",
              "      <td>1</td>\n",
              "      <td>0</td>\n",
              "      <td>0</td>\n",
              "      <td>0</td>\n",
              "      <td>0</td>\n",
              "      <td>0</td>\n",
              "      <td>...</td>\n",
              "      <td>0</td>\n",
              "      <td>0</td>\n",
              "      <td>0</td>\n",
              "      <td>0</td>\n",
              "      <td>0</td>\n",
              "      <td>0</td>\n",
              "      <td>0</td>\n",
              "      <td>0</td>\n",
              "      <td>0</td>\n",
              "      <td>0</td>\n",
              "      <td>0</td>\n",
              "      <td>0</td>\n",
              "      <td>0</td>\n",
              "      <td>0</td>\n",
              "      <td>0</td>\n",
              "      <td>0</td>\n",
              "      <td>0</td>\n",
              "      <td>0</td>\n",
              "      <td>0</td>\n",
              "      <td>0</td>\n",
              "      <td>0</td>\n",
              "      <td>0</td>\n",
              "      <td>0</td>\n",
              "      <td>0</td>\n",
              "      <td>0</td>\n",
              "      <td>0</td>\n",
              "      <td>0</td>\n",
              "      <td>0</td>\n",
              "      <td>0</td>\n",
              "      <td>0</td>\n",
              "      <td>0</td>\n",
              "      <td>0</td>\n",
              "      <td>0</td>\n",
              "      <td>0</td>\n",
              "      <td>0</td>\n",
              "      <td>0</td>\n",
              "      <td>0</td>\n",
              "      <td>1</td>\n",
              "      <td>0</td>\n",
              "      <td>0</td>\n",
              "    </tr>\n",
              "    <tr>\n",
              "      <th>1</th>\n",
              "      <td>0.452055</td>\n",
              "      <td>0.800000</td>\n",
              "      <td>0.000000</td>\n",
              "      <td>0.0</td>\n",
              "      <td>0.122449</td>\n",
              "      <td>0</td>\n",
              "      <td>0</td>\n",
              "      <td>0</td>\n",
              "      <td>0</td>\n",
              "      <td>1</td>\n",
              "      <td>0</td>\n",
              "      <td>0</td>\n",
              "      <td>0</td>\n",
              "      <td>0</td>\n",
              "      <td>1</td>\n",
              "      <td>0</td>\n",
              "      <td>0</td>\n",
              "      <td>0</td>\n",
              "      <td>0</td>\n",
              "      <td>0</td>\n",
              "      <td>0</td>\n",
              "      <td>0</td>\n",
              "      <td>1</td>\n",
              "      <td>0</td>\n",
              "      <td>0</td>\n",
              "      <td>0</td>\n",
              "      <td>0</td>\n",
              "      <td>0</td>\n",
              "      <td>0</td>\n",
              "      <td>0</td>\n",
              "      <td>0</td>\n",
              "      <td>0</td>\n",
              "      <td>0</td>\n",
              "      <td>1</td>\n",
              "      <td>0</td>\n",
              "      <td>0</td>\n",
              "      <td>0</td>\n",
              "      <td>0</td>\n",
              "      <td>0</td>\n",
              "      <td>0</td>\n",
              "      <td>...</td>\n",
              "      <td>0</td>\n",
              "      <td>0</td>\n",
              "      <td>0</td>\n",
              "      <td>0</td>\n",
              "      <td>0</td>\n",
              "      <td>0</td>\n",
              "      <td>0</td>\n",
              "      <td>0</td>\n",
              "      <td>0</td>\n",
              "      <td>0</td>\n",
              "      <td>0</td>\n",
              "      <td>0</td>\n",
              "      <td>0</td>\n",
              "      <td>0</td>\n",
              "      <td>0</td>\n",
              "      <td>0</td>\n",
              "      <td>0</td>\n",
              "      <td>0</td>\n",
              "      <td>0</td>\n",
              "      <td>0</td>\n",
              "      <td>0</td>\n",
              "      <td>0</td>\n",
              "      <td>0</td>\n",
              "      <td>0</td>\n",
              "      <td>0</td>\n",
              "      <td>0</td>\n",
              "      <td>0</td>\n",
              "      <td>0</td>\n",
              "      <td>0</td>\n",
              "      <td>0</td>\n",
              "      <td>0</td>\n",
              "      <td>0</td>\n",
              "      <td>0</td>\n",
              "      <td>0</td>\n",
              "      <td>0</td>\n",
              "      <td>0</td>\n",
              "      <td>0</td>\n",
              "      <td>1</td>\n",
              "      <td>0</td>\n",
              "      <td>0</td>\n",
              "    </tr>\n",
              "    <tr>\n",
              "      <th>2</th>\n",
              "      <td>0.287671</td>\n",
              "      <td>0.533333</td>\n",
              "      <td>0.000000</td>\n",
              "      <td>0.0</td>\n",
              "      <td>0.397959</td>\n",
              "      <td>0</td>\n",
              "      <td>0</td>\n",
              "      <td>1</td>\n",
              "      <td>0</td>\n",
              "      <td>0</td>\n",
              "      <td>0</td>\n",
              "      <td>0</td>\n",
              "      <td>1</td>\n",
              "      <td>0</td>\n",
              "      <td>0</td>\n",
              "      <td>0</td>\n",
              "      <td>0</td>\n",
              "      <td>0</td>\n",
              "      <td>0</td>\n",
              "      <td>0</td>\n",
              "      <td>0</td>\n",
              "      <td>0</td>\n",
              "      <td>0</td>\n",
              "      <td>0</td>\n",
              "      <td>1</td>\n",
              "      <td>0</td>\n",
              "      <td>0</td>\n",
              "      <td>0</td>\n",
              "      <td>0</td>\n",
              "      <td>0</td>\n",
              "      <td>0</td>\n",
              "      <td>0</td>\n",
              "      <td>0</td>\n",
              "      <td>0</td>\n",
              "      <td>1</td>\n",
              "      <td>0</td>\n",
              "      <td>0</td>\n",
              "      <td>0</td>\n",
              "      <td>0</td>\n",
              "      <td>0</td>\n",
              "      <td>...</td>\n",
              "      <td>0</td>\n",
              "      <td>0</td>\n",
              "      <td>0</td>\n",
              "      <td>0</td>\n",
              "      <td>0</td>\n",
              "      <td>0</td>\n",
              "      <td>0</td>\n",
              "      <td>0</td>\n",
              "      <td>0</td>\n",
              "      <td>0</td>\n",
              "      <td>0</td>\n",
              "      <td>0</td>\n",
              "      <td>0</td>\n",
              "      <td>0</td>\n",
              "      <td>0</td>\n",
              "      <td>0</td>\n",
              "      <td>0</td>\n",
              "      <td>0</td>\n",
              "      <td>0</td>\n",
              "      <td>0</td>\n",
              "      <td>0</td>\n",
              "      <td>0</td>\n",
              "      <td>0</td>\n",
              "      <td>0</td>\n",
              "      <td>0</td>\n",
              "      <td>0</td>\n",
              "      <td>0</td>\n",
              "      <td>0</td>\n",
              "      <td>0</td>\n",
              "      <td>0</td>\n",
              "      <td>0</td>\n",
              "      <td>0</td>\n",
              "      <td>0</td>\n",
              "      <td>0</td>\n",
              "      <td>0</td>\n",
              "      <td>0</td>\n",
              "      <td>0</td>\n",
              "      <td>1</td>\n",
              "      <td>0</td>\n",
              "      <td>0</td>\n",
              "    </tr>\n",
              "    <tr>\n",
              "      <th>3</th>\n",
              "      <td>0.493151</td>\n",
              "      <td>0.400000</td>\n",
              "      <td>0.000000</td>\n",
              "      <td>0.0</td>\n",
              "      <td>0.397959</td>\n",
              "      <td>0</td>\n",
              "      <td>0</td>\n",
              "      <td>1</td>\n",
              "      <td>0</td>\n",
              "      <td>0</td>\n",
              "      <td>0</td>\n",
              "      <td>0</td>\n",
              "      <td>0</td>\n",
              "      <td>0</td>\n",
              "      <td>1</td>\n",
              "      <td>0</td>\n",
              "      <td>0</td>\n",
              "      <td>0</td>\n",
              "      <td>0</td>\n",
              "      <td>0</td>\n",
              "      <td>0</td>\n",
              "      <td>0</td>\n",
              "      <td>0</td>\n",
              "      <td>0</td>\n",
              "      <td>1</td>\n",
              "      <td>0</td>\n",
              "      <td>0</td>\n",
              "      <td>0</td>\n",
              "      <td>0</td>\n",
              "      <td>0</td>\n",
              "      <td>0</td>\n",
              "      <td>0</td>\n",
              "      <td>0</td>\n",
              "      <td>1</td>\n",
              "      <td>0</td>\n",
              "      <td>0</td>\n",
              "      <td>0</td>\n",
              "      <td>0</td>\n",
              "      <td>0</td>\n",
              "      <td>0</td>\n",
              "      <td>...</td>\n",
              "      <td>0</td>\n",
              "      <td>0</td>\n",
              "      <td>0</td>\n",
              "      <td>0</td>\n",
              "      <td>0</td>\n",
              "      <td>0</td>\n",
              "      <td>0</td>\n",
              "      <td>0</td>\n",
              "      <td>0</td>\n",
              "      <td>0</td>\n",
              "      <td>0</td>\n",
              "      <td>0</td>\n",
              "      <td>0</td>\n",
              "      <td>0</td>\n",
              "      <td>0</td>\n",
              "      <td>0</td>\n",
              "      <td>0</td>\n",
              "      <td>0</td>\n",
              "      <td>0</td>\n",
              "      <td>0</td>\n",
              "      <td>0</td>\n",
              "      <td>0</td>\n",
              "      <td>0</td>\n",
              "      <td>0</td>\n",
              "      <td>0</td>\n",
              "      <td>0</td>\n",
              "      <td>0</td>\n",
              "      <td>0</td>\n",
              "      <td>0</td>\n",
              "      <td>0</td>\n",
              "      <td>0</td>\n",
              "      <td>0</td>\n",
              "      <td>0</td>\n",
              "      <td>0</td>\n",
              "      <td>0</td>\n",
              "      <td>0</td>\n",
              "      <td>0</td>\n",
              "      <td>1</td>\n",
              "      <td>0</td>\n",
              "      <td>0</td>\n",
              "    </tr>\n",
              "    <tr>\n",
              "      <th>4</th>\n",
              "      <td>0.150685</td>\n",
              "      <td>0.800000</td>\n",
              "      <td>0.000000</td>\n",
              "      <td>0.0</td>\n",
              "      <td>0.397959</td>\n",
              "      <td>0</td>\n",
              "      <td>0</td>\n",
              "      <td>1</td>\n",
              "      <td>0</td>\n",
              "      <td>0</td>\n",
              "      <td>0</td>\n",
              "      <td>0</td>\n",
              "      <td>0</td>\n",
              "      <td>0</td>\n",
              "      <td>1</td>\n",
              "      <td>0</td>\n",
              "      <td>0</td>\n",
              "      <td>0</td>\n",
              "      <td>0</td>\n",
              "      <td>0</td>\n",
              "      <td>0</td>\n",
              "      <td>0</td>\n",
              "      <td>0</td>\n",
              "      <td>0</td>\n",
              "      <td>0</td>\n",
              "      <td>0</td>\n",
              "      <td>0</td>\n",
              "      <td>0</td>\n",
              "      <td>1</td>\n",
              "      <td>0</td>\n",
              "      <td>0</td>\n",
              "      <td>0</td>\n",
              "      <td>0</td>\n",
              "      <td>0</td>\n",
              "      <td>0</td>\n",
              "      <td>0</td>\n",
              "      <td>0</td>\n",
              "      <td>0</td>\n",
              "      <td>1</td>\n",
              "      <td>0</td>\n",
              "      <td>...</td>\n",
              "      <td>0</td>\n",
              "      <td>0</td>\n",
              "      <td>0</td>\n",
              "      <td>1</td>\n",
              "      <td>0</td>\n",
              "      <td>0</td>\n",
              "      <td>0</td>\n",
              "      <td>0</td>\n",
              "      <td>0</td>\n",
              "      <td>0</td>\n",
              "      <td>0</td>\n",
              "      <td>0</td>\n",
              "      <td>0</td>\n",
              "      <td>0</td>\n",
              "      <td>0</td>\n",
              "      <td>0</td>\n",
              "      <td>0</td>\n",
              "      <td>0</td>\n",
              "      <td>0</td>\n",
              "      <td>0</td>\n",
              "      <td>0</td>\n",
              "      <td>0</td>\n",
              "      <td>0</td>\n",
              "      <td>0</td>\n",
              "      <td>0</td>\n",
              "      <td>0</td>\n",
              "      <td>0</td>\n",
              "      <td>0</td>\n",
              "      <td>0</td>\n",
              "      <td>0</td>\n",
              "      <td>0</td>\n",
              "      <td>0</td>\n",
              "      <td>0</td>\n",
              "      <td>0</td>\n",
              "      <td>0</td>\n",
              "      <td>0</td>\n",
              "      <td>0</td>\n",
              "      <td>0</td>\n",
              "      <td>0</td>\n",
              "      <td>0</td>\n",
              "    </tr>\n",
              "  </tbody>\n",
              "</table>\n",
              "<p>5 rows × 87 columns</p>\n",
              "</div>\n",
              "      <button class=\"colab-df-convert\" onclick=\"convertToInteractive('df-27d85b3b-b4d4-481d-92da-a1b8b516b12e')\"\n",
              "              title=\"Convert this dataframe to an interactive table.\"\n",
              "              style=\"display:none;\">\n",
              "        \n",
              "  <svg xmlns=\"http://www.w3.org/2000/svg\" height=\"24px\"viewBox=\"0 0 24 24\"\n",
              "       width=\"24px\">\n",
              "    <path d=\"M0 0h24v24H0V0z\" fill=\"none\"/>\n",
              "    <path d=\"M18.56 5.44l.94 2.06.94-2.06 2.06-.94-2.06-.94-.94-2.06-.94 2.06-2.06.94zm-11 1L8.5 8.5l.94-2.06 2.06-.94-2.06-.94L8.5 2.5l-.94 2.06-2.06.94zm10 10l.94 2.06.94-2.06 2.06-.94-2.06-.94-.94-2.06-.94 2.06-2.06.94z\"/><path d=\"M17.41 7.96l-1.37-1.37c-.4-.4-.92-.59-1.43-.59-.52 0-1.04.2-1.43.59L10.3 9.45l-7.72 7.72c-.78.78-.78 2.05 0 2.83L4 21.41c.39.39.9.59 1.41.59.51 0 1.02-.2 1.41-.59l7.78-7.78 2.81-2.81c.8-.78.8-2.07 0-2.86zM5.41 20L4 18.59l7.72-7.72 1.47 1.35L5.41 20z\"/>\n",
              "  </svg>\n",
              "      </button>\n",
              "      \n",
              "  <style>\n",
              "    .colab-df-container {\n",
              "      display:flex;\n",
              "      flex-wrap:wrap;\n",
              "      gap: 12px;\n",
              "    }\n",
              "\n",
              "    .colab-df-convert {\n",
              "      background-color: #E8F0FE;\n",
              "      border: none;\n",
              "      border-radius: 50%;\n",
              "      cursor: pointer;\n",
              "      display: none;\n",
              "      fill: #1967D2;\n",
              "      height: 32px;\n",
              "      padding: 0 0 0 0;\n",
              "      width: 32px;\n",
              "    }\n",
              "\n",
              "    .colab-df-convert:hover {\n",
              "      background-color: #E2EBFA;\n",
              "      box-shadow: 0px 1px 2px rgba(60, 64, 67, 0.3), 0px 1px 3px 1px rgba(60, 64, 67, 0.15);\n",
              "      fill: #174EA6;\n",
              "    }\n",
              "\n",
              "    [theme=dark] .colab-df-convert {\n",
              "      background-color: #3B4455;\n",
              "      fill: #D2E3FC;\n",
              "    }\n",
              "\n",
              "    [theme=dark] .colab-df-convert:hover {\n",
              "      background-color: #434B5C;\n",
              "      box-shadow: 0px 1px 3px 1px rgba(0, 0, 0, 0.15);\n",
              "      filter: drop-shadow(0px 1px 2px rgba(0, 0, 0, 0.3));\n",
              "      fill: #FFFFFF;\n",
              "    }\n",
              "  </style>\n",
              "\n",
              "      <script>\n",
              "        const buttonEl =\n",
              "          document.querySelector('#df-27d85b3b-b4d4-481d-92da-a1b8b516b12e button.colab-df-convert');\n",
              "        buttonEl.style.display =\n",
              "          google.colab.kernel.accessAllowed ? 'block' : 'none';\n",
              "\n",
              "        async function convertToInteractive(key) {\n",
              "          const element = document.querySelector('#df-27d85b3b-b4d4-481d-92da-a1b8b516b12e');\n",
              "          const dataTable =\n",
              "            await google.colab.kernel.invokeFunction('convertToInteractive',\n",
              "                                                     [key], {});\n",
              "          if (!dataTable) return;\n",
              "\n",
              "          const docLinkHtml = 'Like what you see? Visit the ' +\n",
              "            '<a target=\"_blank\" href=https://colab.research.google.com/notebooks/data_table.ipynb>data table notebook</a>'\n",
              "            + ' to learn more about interactive tables.';\n",
              "          element.innerHTML = '';\n",
              "          dataTable['output_type'] = 'display_data';\n",
              "          await google.colab.output.renderOutput(dataTable, element);\n",
              "          const docLink = document.createElement('div');\n",
              "          docLink.innerHTML = docLinkHtml;\n",
              "          element.appendChild(docLink);\n",
              "        }\n",
              "      </script>\n",
              "    </div>\n",
              "  </div>\n",
              "  "
            ],
            "text/plain": [
              "        age  education-num  ...  native-country_ Vietnam  native-country_ Yugoslavia\n",
              "0  0.301370       0.800000  ...                        0                           0\n",
              "1  0.452055       0.800000  ...                        0                           0\n",
              "2  0.287671       0.533333  ...                        0                           0\n",
              "3  0.493151       0.400000  ...                        0                           0\n",
              "4  0.150685       0.800000  ...                        0                           0\n",
              "\n",
              "[5 rows x 87 columns]"
            ]
          },
          "metadata": {},
          "execution_count": 33
        }
      ],
      "source": [
        "features_final.head()"
      ],
      "metadata": {
        "pycharm": {
          "name": "#%%\n"
        },
        "id": "N0RbW88EPdGk",
        "colab": {
          "base_uri": "https://localhost:8080/",
          "height": 0
        },
        "outputId": "63e58bb2-6bca-4961-c7ad-2d58b3f60c35"
      }
    },
    {
      "cell_type": "markdown",
      "metadata": {
        "id": "046_JOIjPdGl"
      },
      "source": [
        "### Shuffle and Split Data\n",
        "Now all _categorical variables_ have been converted into numerical features, and all numerical features have been normalized. As always, we will now split the data (both features and their labels) into training and test sets. 80% of the data will be used for training and 20% for testing.\n",
        "\n",
        "Run the code cell below to perform this split."
      ]
    },
    {
      "cell_type": "code",
      "execution_count": 34,
      "metadata": {
        "id": "S6PKjPFYPdGl",
        "colab": {
          "base_uri": "https://localhost:8080/"
        },
        "outputId": "b9a12bf0-912b-46ca-c420-389f24e57843"
      },
      "outputs": [
        {
          "output_type": "stream",
          "name": "stdout",
          "text": [
            "Training set has 36177 samples.\n",
            "Testing set has 9045 samples.\n"
          ]
        }
      ],
      "source": [
        "# Import train_test_split\n",
        "from sklearn.model_selection import train_test_split\n",
        "\n",
        "# Split the 'features' and 'income' data into training and testing sets\n",
        "X_train, X_test, y_train, y_test = train_test_split(features_final, \n",
        "                                                    income, \n",
        "                                                    test_size = 0.2,\n",
        "                                                    random_state = 43)\n",
        "\n",
        "# Show the results of the split\n",
        "print(\"Training set has {} samples.\".format(X_train.shape[0]))\n",
        "print(\"Testing set has {} samples.\".format(X_test.shape[0]))"
      ]
    },
    {
      "cell_type": "markdown",
      "metadata": {
        "id": "1ImOk3VjPdGl"
      },
      "source": [
        "*Note: this Workspace is running on `sklearn` v0.19. If you use the newer version (>=\"0.20\"), the `sklearn.cross_validation` has been replaced with `sklearn.model_selection`.*"
      ]
    },
    {
      "cell_type": "markdown",
      "metadata": {
        "id": "W5GdhwMlPdGl"
      },
      "source": [
        "----\n",
        "## Evaluating Model Performance\n",
        "In this section, we will investigate four different algorithms, and determine which is best at modeling the data. Three of these algorithms will be supervised learners of your choice, and the fourth algorithm is known as a *naive predictor*."
      ]
    },
    {
      "cell_type": "markdown",
      "metadata": {
        "id": "tTMlmqQCPdGl"
      },
      "source": [
        "### Metrics and the Naive Predictor\n",
        "*CharityML*, equipped with their research, knows individuals that make more than \\$50,000 are most likely to donate to their charity. Because of this, *CharityML* is particularly interested in predicting who makes more than \\$50,000 accurately. It would seem that using **accuracy** as a metric for evaluating a particular model's performace would be appropriate. Additionally, identifying someone that *does not* make more than \\$50,000 as someone who does would be detrimental to *CharityML*, since they are looking to find individuals willing to donate. Therefore, a model's ability to precisely predict those that make more than \\$50,000 is *more important* than the model's ability to **recall** those individuals. We can use **F-beta score** as a metric that considers both precision and recall:\n",
        "\n",
        "$$ F_{\\beta} = (1 + \\beta^2) \\cdot \\frac{precision \\cdot recall}{\\left( \\beta^2 \\cdot precision \\right) + recall} $$\n",
        "\n",
        "In particular, when $\\beta = 0.5$, more emphasis is placed on precision. This is called the **F$_{0.5}$ score** (or F-score for simplicity).\n",
        "\n",
        "Looking at the distribution of classes (those who make at most \\$50,000, and those who make more), it's clear most individuals do not make more than \\$50,000. This can greatly affect **accuracy**, since we could simply say *\"this person does not make more than \\$50,000\"* and generally be right, without ever looking at the data! Making such a statement would be called **naive**, since we have not considered any information to substantiate the claim. It is always important to consider the *naive prediction* for your data, to help establish a benchmark for whether a model is performing well. That been said, using that prediction would be pointless: If we predicted all people made less than \\$50,000, *CharityML* would identify no one as donors. \n",
        "\n",
        "\n",
        "#### Note: Recap of accuracy, precision, recall\n",
        "\n",
        "** Accuracy ** measures how often the classifier makes the correct prediction. It’s the ratio of the number of correct predictions to the total number of predictions (the number of test data points).\n",
        "\n",
        "** Precision ** tells us what proportion of messages we classified as spam, actually were spam.\n",
        "It is a ratio of true positives(words classified as spam, and which are actually spam) to all positives(all words classified as spam, irrespective of whether that was the correct classificatio), in other words it is the ratio of\n",
        "\n",
        "`[True Positives/(True Positives + False Positives)]`\n",
        "\n",
        "** Recall(sensitivity)** tells us what proportion of messages that actually were spam were classified by us as spam.\n",
        "It is a ratio of true positives(words classified as spam, and which are actually spam) to all the words that were actually spam, in other words it is the ratio of\n",
        "\n",
        "`[True Positives/(True Positives + False Negatives)]`\n",
        "\n",
        "For classification problems that are skewed in their classification distributions like in our case, for example if we had a 100 text messages and only 2 were spam and the rest 98 weren't, accuracy by itself is not a very good metric. We could classify 90 messages as not spam(including the 2 that were spam but we classify them as not spam, hence they would be false negatives) and 10 as spam(all 10 false positives) and still get a reasonably good accuracy score. For such cases, precision and recall come in very handy. These two metrics can be combined to get the F1 score, which is weighted average(harmonic mean) of the precision and recall scores. This score can range from 0 to 1, with 1 being the best possible F1 score(we take the harmonic mean as we are dealing with ratios)."
      ]
    },
    {
      "cell_type": "markdown",
      "metadata": {
        "id": "CrucfJSgPdGm"
      },
      "source": [
        "### Question 1 - Naive Predictor Performace\n",
        "* If we chose a model that always predicted an individual made more than $50,000, what would  that model's accuracy and F-score be on this dataset? You must use the code cell below and assign your results to `'accuracy'` and `'fscore'` to be used later.\n",
        "\n",
        "** Please note ** that the the purpose of generating a naive predictor is simply to show what a base model without any intelligence would look like. In the real world, ideally your base model would be either the results of a previous model or could be based on a research paper upon which you are looking to improve. When there is no benchmark model set, getting a result better than random choice is a place you could start from.\n",
        "\n",
        "** HINT: ** \n",
        "\n",
        "* When we have a model that always predicts '1' (i.e. the individual makes more than 50k) then our model will have no True Negatives(TN) or False Negatives(FN) as we are not making any negative('0' value) predictions. Therefore our Accuracy in this case becomes the same as our Precision(True Positives/(True Positives + False Positives)) as every prediction that we have made with value '1' that should have '0' becomes a False Positive; therefore our denominator in this case is the total number of records we have in total. \n",
        "* Our Recall score(True Positives/(True Positives + False Negatives)) in this setting becomes 1 as we have no False Negatives."
      ]
    },
    {
      "cell_type": "code",
      "execution_count": 35,
      "outputs": [
        {
          "output_type": "stream",
          "name": "stdout",
          "text": [
            "Recall =  1.0 \n",
            "Precision =  0.2478439697492371\n",
            "Naive Predictor: [Accuracy score: 0.2478, F-score: 0.3972]\n"
          ]
        }
      ],
      "source": [
        "#Solving last question.\n",
        "TP = np.sum(income) # Counting the ones as this is the naive case. Note that 'income' is the 'income_raw' data encoded to numerical values done in the data preprocessing step.\n",
        "FP = len(income) - TP # Specific to the naive case\n",
        "\n",
        "TN = 0 # No predicted negatives in the naive case\n",
        "FN = 0 # No predicted negatives in the naive case\n",
        "\n",
        "# TODO: Calculate accuracy, precision and recall\n",
        "accuracy = (TP/len(income))\n",
        "recall = (TP/(TP+FN))\n",
        "precision = (TP/(len(income)))\n",
        "\n",
        "# TODO: Calculate F-score using the formula above for beta = 0.5 and correct values for precision and recall.\n",
        "fscore = 2*precision*recall/(precision+recall)\n",
        "\n",
        "# Print the results\n",
        "print(\"Recall = \",recall,\"\\nPrecision = \",precision)\n",
        "print(\"Naive Predictor: [Accuracy score: {:.4f}, F-score: {:.4f}]\".format(accuracy, fscore))"
      ],
      "metadata": {
        "pycharm": {
          "name": "#%%\n"
        },
        "id": "S2jF-DL-PdGm",
        "colab": {
          "base_uri": "https://localhost:8080/"
        },
        "outputId": "753ba1de-4528-4b6d-b516-2fa07503605e"
      }
    },
    {
      "cell_type": "code",
      "execution_count": 36,
      "outputs": [],
      "source": [
        "#Functions we may need later to calculate precision, recall and f1 score\n",
        "def precision(actual, preds):\n",
        "    ap=preds[preds==1]\n",
        "    true=preds[preds==actual]\n",
        "    tp=true[true==1]\n",
        "    return len(tp)/len(ap)\n",
        "\n",
        "def recall(actual, preds):\n",
        "    ap=actual[actual==1]\n",
        "    true=preds[preds==actual]\n",
        "    tp=true[true==1]\n",
        "    return len(tp)/len(ap)\n",
        "\n",
        "def f1(actual, preds):\n",
        "    return 2*precision(actual,preds)*recall(actual,preds)/(precision(actual,preds)+recall(actual,preds))"
      ],
      "metadata": {
        "pycharm": {
          "name": "#%%\n"
        },
        "id": "v_mlRNMPPdGm"
      }
    },
    {
      "cell_type": "code",
      "execution_count": 37,
      "outputs": [
        {
          "output_type": "stream",
          "name": "stdout",
          "text": [
            "Accuracy on training set =  0.7699643419852392\n",
            "Accuracy on testing set =  0.7731343283582089\n",
            "Recall =  0.7733466267863077 \n",
            "Precision =  0.5265897261823942\n",
            "Naive Predictor: [Accuracy score: 0.7700, F-score: 0.6265]\n"
          ]
        }
      ],
      "source": [
        "gnb = MultinomialNB()\n",
        "gnb.fit(X_train,y_train)\n",
        "y_pred=gnb.predict(X_train)\n",
        "y_pred2=gnb.predict(X_test)\n",
        "r = recall(y_train,y_pred)\n",
        "p = precision(y_train,y_pred)\n",
        "\n",
        "# TODO: Calculate F-score using the formula above for beta = 0.5 and correct values for precision and recall.\n",
        "fscore = f1(y_train,y_pred)\n",
        "accuracy_on_train=accuracy_score(y_pred,y_train)\n",
        "accuracy_on_test=accuracy_score(y_pred2,y_test)\n",
        "# Print the results\n",
        "print(\"Accuracy on training set = \",accuracy_on_train)\n",
        "print(\"Accuracy on testing set = \",accuracy_on_test)\n",
        "print(\"Recall = \",r,\"\\nPrecision = \",p)\n",
        "print(\"Naive Predictor: [Accuracy score: {:.4f}, F-score: {:.4f}]\".format(accuracy_on_train, fscore))\n",
        "#print(\"Number of mislabeled points out of a total %d points : %d\"% (X_test.shape[0],(y_test != y_pred).sum()))"
      ],
      "metadata": {
        "pycharm": {
          "name": "#%%\n"
        },
        "id": "NegXvfCPPdGn",
        "colab": {
          "base_uri": "https://localhost:8080/"
        },
        "outputId": "56780f4a-a2d7-4822-80c0-4eca739f3a57"
      }
    },
    {
      "cell_type": "markdown",
      "metadata": {
        "id": "Hvm0jDJWPdGn"
      },
      "source": [
        "###  Supervised Learning Models\n",
        "**The following are some of the supervised learning models that are currently available in** [`scikit-learn`](http://scikit-learn.org/stable/supervised_learning.html) **that you may choose from:**\n",
        "- Gaussian Naive Bayes (GaussianNB)\n",
        "- Decision Trees\n",
        "- Ensemble Methods (Bagging, AdaBoost, Random Forest, Gradient Boosting)\n",
        "- K-Nearest Neighbors (KNeighbors)\n",
        "- Stochastic Gradient Descent Classifier (SGDC)\n",
        "- Support Vector Machines (SVM)\n",
        "- Logistic Regression"
      ]
    },
    {
      "cell_type": "markdown",
      "metadata": {
        "id": "WZgaC1lxPdGn"
      },
      "source": [
        "### Question 2 - Model Application\n",
        "List three of the supervised learning models above that are appropriate for this problem that you will test on the census data. For each model chosen\n",
        "\n",
        "- Describe one real-world application in industry where the model can be applied. \n",
        "- What are the strengths of the model; when does it perform well?\n",
        "- What are the weaknesses of the model; when does it perform poorly?\n",
        "- What makes this model a good candidate for the problem, given what you know about the data?\n",
        "\n",
        "** HINT: **\n",
        "\n",
        "Structure your answer in the same format as above^, with 4 parts for each of the three models you pick. Please include references with your answer."
      ]
    },
    {
      "cell_type": "markdown",
      "metadata": {
        "id": "g1QEeeCaPdGn"
      },
      "source": [
        "**Decision Tree Classifier:**\n",
        "- Real-world application: Can be used in manufacturing to evaluate decisions.\n",
        "- Strengths: Performs classification without the need of data preparation since it can work *in theory* with categorical data and missing values.\n",
        "- Weakness: Prone to overfitting.\n",
        "- Candidacy: It has the ability to deal with both categorical and continous data. Also widely used in classification problems.\n",
        "\n",
        "**Ensemble method (AdaBoost):**\n",
        "- Real-world application: Customer Churn prediction. Also in features extraction in face detection.\n",
        "- Strengths: Very good at boosting performance of weak learners (decision trees) on two class (binary) classification problems.\n",
        "- Weakness: Noise and Outliers are problematic. You need to be careful with missclassifications in the data (Needs a quality dataset).\n",
        "- Candidacy: We need to classify inputs into two classes (binary classification). Decision trees been used on this problem it had an acceptable performance but suffered overfitting. Generalizes better than RandomForests.\n",
        "\n",
        "**Support Vector Machine:**\n",
        "- Real-world application: used in bioinformatics with detecting genes, patients with genetic problems.\n",
        "- Strengths: Works effictively with high dimensional data. Works well in the case of lack of data exploring.\n",
        "- Weakness: Difficulty of choosing a suitable kernel. Very long training time.\n",
        "- Candidacy: Any classification problems can be solved by SVM with the right kernel as it's known for its performance. Can work if we have high dimensional data.\n"
      ]
    },
    {
      "cell_type": "markdown",
      "metadata": {
        "id": "dvrfdlqHPdGo"
      },
      "source": [
        "### Implementation - Creating a Training and Predicting Pipeline\n",
        "To properly evaluate the performance of each model you've chosen, it's important that you create a training and predicting pipeline that allows you to quickly and effectively train models using various sizes of training data and perform predictions on the testing data. Your implementation here will be used in the following section.\n",
        "In the code block below, you will need to implement the following:\n",
        " - Import `fbeta_score` and `accuracy_score` from [`sklearn.metrics`](http://scikit-learn.org/stable/modules/classes.html#sklearn-metrics-metrics).\n",
        " - Fit the learner to the sampled training data and record the training time.\n",
        " - Perform predictions on the test data `X_test`, and also on the first 300 training points `X_train[:300]`.\n",
        "   - Record the total prediction time.\n",
        " - Calculate the accuracy score for both the training subset and testing set.\n",
        " - Calculate the F-score for both the training subset and testing set.\n",
        "   - Make sure that you set the `beta` parameter!"
      ]
    },
    {
      "cell_type": "code",
      "execution_count": 38,
      "metadata": {
        "id": "bH9lzyL1PdGo"
      },
      "outputs": [],
      "source": [
        "# TODO: Import two metrics from sklearn - fbeta_score and accuracy_score\n",
        "from sklearn.metrics import fbeta_score\n",
        "\n",
        "def train_predict(learner, sample_size, X_train, y_train, X_test, y_test):\n",
        "    '''\n",
        "    inputs:\n",
        "       - learner: the learning algorithm to be trained and predicted on\n",
        "       - sample_size: the size of samples (number) to be drawn from training set\n",
        "       - X_train: features training set\n",
        "       - y_train: income training set\n",
        "       - X_test: features testing set\n",
        "       - y_test: income testing set\n",
        "    '''\n",
        "    #tree_param={'criterion':['gini', 'entropy']\n",
        "          #      ,'max_depth':[1,3,6,8,9]\n",
        "           #     ,'min_samples_split':[2,5,7,9]\n",
        "            #    ,'min_samples_leaf':[1,3,5,7]}\n",
        "    results = {}\n",
        "    # TODO: Fit the learner to the training data using slicing with 'sample_size' using .fit(training_features[:], training_labels[:])\n",
        "    start = time() # Get start time\n",
        "    learner.fit(X_train,y_train)\n",
        "    end = time() # Get end time\n",
        "    # TODO: Calculate the training time\n",
        "    results['train_time'] = end-start\n",
        "    # TODO: Get the predictions on the test set(X_test),\n",
        "    #       then get predictions on the first 300 training samples(X_train) using .predict()\n",
        "    start = time() # Get start time\n",
        "    predictions_test = learner.predict(X_test)\n",
        "    predictions_train = learner.predict(X_train)\n",
        "    end = time() # Get end time\n",
        "    \n",
        "    # TODO: Calculate the total prediction time\n",
        "    results['pred_time'] = end-start\n",
        "            \n",
        "    # TODO: Compute accuracy on the first 300 training samples which is y_train[:300]\n",
        "    results['acc_train'] = accuracy_score(y_train,predictions_train)\n",
        "        \n",
        "    # TODO: Compute accuracy on test set using accuracy_score()\n",
        "    results['acc_test'] = accuracy_score(y_test,predictions_test)\n",
        "    \n",
        "    # TODO: Compute F-score on the the first 300 training samples using fbeta_score()\n",
        "    results['f_train'] = fbeta_score(y_train,predictions_train,beta=1)\n",
        "    results['f_train'] = f1(y_train,predictions_train)\n",
        "\n",
        "        \n",
        "    # TODO: Compute F-score on the test set which is y_test\n",
        "    results['f_test'] = fbeta_score(y_test,predictions_test,beta=1)\n",
        "       \n",
        "    # Success\n",
        "    print(\"{} trained on {} samples.\".format(learner.__class__.__name__, sample_size))\n",
        "    print('\\n')\n",
        "    # Return the results\n",
        "    return results"
      ]
    },
    {
      "cell_type": "code",
      "execution_count": 40,
      "outputs": [
        {
          "output_type": "execute_result",
          "data": {
            "text/plain": [
              "45222"
            ]
          },
          "metadata": {},
          "execution_count": 40
        }
      ],
      "source": [
        "len(income)"
      ],
      "metadata": {
        "pycharm": {
          "name": "#%%\n"
        },
        "id": "AOt-NRqCPdGo",
        "colab": {
          "base_uri": "https://localhost:8080/"
        },
        "outputId": "bb987811-fe4d-40f4-a267-e7fcc56f6aeb"
      }
    },
    {
      "cell_type": "markdown",
      "metadata": {
        "id": "MElQ_GikPdGp"
      },
      "source": [
        "### Implementation: Initial Model Evaluation\n",
        "In the code cell, you will need to implement the following:\n",
        "- Import the three supervised learning models you've discussed in the previous section.\n",
        "- Initialize the three models and store them in `'clf_A'`, `'clf_B'`, and `'clf_C'`.\n",
        "  - Use a `'random_state'` for each model you use, if provided.\n",
        "  - **Note:** Use the default settings for each model — you will tune one specific model in a later section.\n",
        "- Calculate the number of records equal to 1%, 10%, and 100% of the training data.\n",
        "  - Store those values in `'samples_1'`, `'samples_10'`, and `'samples_100'` respectively.\n",
        "\n",
        "**Note:** Depending on which algorithms you chose, the following implementation may take some time to run!"
      ]
    },
    {
      "cell_type": "code",
      "execution_count": 41,
      "metadata": {
        "id": "sx9uhi3tPdGp",
        "colab": {
          "base_uri": "https://localhost:8080/",
          "height": 1000
        },
        "outputId": "b6f9a1a1-0816-4492-e278-03b6f24cab89"
      },
      "outputs": [
        {
          "output_type": "stream",
          "name": "stdout",
          "text": [
            "AdaBoostClassifier trained on 452.22 samples.\n",
            "\n",
            "\n",
            "AdaBoostClassifier trained on 4522.2 samples.\n",
            "\n",
            "\n",
            "AdaBoostClassifier trained on 45222 samples.\n",
            "\n",
            "\n",
            "DecisionTreeClassifier trained on 452.22 samples.\n",
            "\n",
            "\n",
            "DecisionTreeClassifier trained on 4522.2 samples.\n",
            "\n",
            "\n",
            "DecisionTreeClassifier trained on 45222 samples.\n",
            "\n",
            "\n",
            "SVC trained on 452.22 samples.\n",
            "\n",
            "\n",
            "SVC trained on 4522.2 samples.\n",
            "\n",
            "\n",
            "SVC trained on 45222 samples.\n",
            "\n",
            "\n"
          ]
        },
        {
          "output_type": "stream",
          "name": "stderr",
          "text": [
            "/content/visuals.py:121: UserWarning: Tight layout not applied. tight_layout cannot make axes width small enough to accommodate all axes decorations\n",
            "  pl.tight_layout()\n"
          ]
        },
        {
          "output_type": "display_data",
          "data": {
            "image/png": "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\n",
            "text/plain": [
              "<Figure size 792x576 with 6 Axes>"
            ]
          },
          "metadata": {
            "needs_background": "light"
          }
        }
      ],
      "source": [
        "# TODO: Import the three supervised learning models from sklearn\n",
        "from sklearn.ensemble import ExtraTreesClassifier\n",
        "from sklearn.tree import  DecisionTreeClassifier\n",
        "from sklearn.svm import SVC,LinearSVC\n",
        "from sklearn.linear_model import LogisticRegression, SGDClassifier\n",
        "from sklearn.naive_bayes import GaussianNB\n",
        "\n",
        "# TODO: Initialize the three models\n",
        "clf_A = AdaBoostClassifier()\n",
        "clf_B = DecisionTreeClassifier()\n",
        "clf_C = SVC(kernel='rbf')\n",
        "\n",
        "# TODO: Calculate the number of samples for 1%, 10%, and 100% of the training data\n",
        "# HINT: samples_100 is the entire training set i.e. len(y_train)\n",
        "# HINT: samples_10 is 10% of samples_100 (ensure to set the count of the values to be `int` and not `float`)\n",
        "# HINT: samples_1 is 1% of samples_100 (ensure to set the count of the values to be `int` and not `float`)\n",
        "samples_100 = len(income)\n",
        "samples_10 = 0.1*len(income)\n",
        "samples_1 = 0.01*len(income)\n",
        "\n",
        "# Collect results on the learners\n",
        "results = {}\n",
        "for clf in [clf_A, clf_B, clf_C]:\n",
        "    clf_name = clf.__class__.__name__\n",
        "    results[clf_name] = {}\n",
        "    for i, samples in enumerate([samples_1, samples_10, samples_100]):\n",
        "        results[clf_name][i] = \\\n",
        "        train_predict(clf, samples, X_train, y_train, X_test, y_test)\n",
        "\n",
        "# Run metrics visualization for the three supervised learning models chosen\n",
        "vs.evaluate(results, accuracy, fscore)"
      ]
    },
    {
      "cell_type": "markdown",
      "metadata": {
        "id": "uBJii_C0PdGq"
      },
      "source": [
        "----\n",
        "## Improving Results\n",
        "In this final section, you will choose from the three supervised learning models the *best* model to use on the student data. You will then perform a grid search optimization for the model over the entire training set (`X_train` and `y_train`) by tuning at least one parameter to improve upon the untuned model's F-score. "
      ]
    },
    {
      "cell_type": "markdown",
      "metadata": {
        "id": "LzCF3nu2PdGq"
      },
      "source": [
        "### Question 3 - Choosing the Best Model\n",
        "\n",
        "* Based on the evaluation you performed earlier, in one to two paragraphs, explain to *CharityML* which of the three models you believe to be most appropriate for the task of identifying individuals that make more than \\$50,000. \n",
        "\n",
        "** HINT: ** \n",
        "Look at the graph at the bottom left from the cell above(the visualization created by `vs.evaluate(results, accuracy, fscore)`) and check the F score for the testing set when 100% of the training set is used. Which model has the highest score? Your answer should include discussion of the:\n",
        "* metrics - F score on the testing when 100% of the training data is used, \n",
        "* prediction/training time\n",
        "* the algorithm's suitability for the data."
      ]
    },
    {
      "cell_type": "markdown",
      "metadata": {
        "id": "WDButomKPdGq"
      },
      "source": [
        "**Answer:**\n",
        "- AdaBoost is the most accurate with the highest f score with a relatively low training/predicting time."
      ]
    },
    {
      "cell_type": "markdown",
      "metadata": {
        "id": "1M5_5dwRPdGq"
      },
      "source": [
        "### Question 4 - Describing the Model in Layman's Terms\n",
        "\n",
        "* In one to two paragraphs, explain to *CharityML*, in layman's terms, how the final model chosen is supposed to work. Be sure that you are describing the major qualities of the model, such as how the model is trained and how the model makes a prediction. Avoid using advanced mathematical jargon, such as describing equations.\n",
        "\n",
        "** HINT: **\n",
        "\n",
        "When explaining your model, if using external resources please include all citations."
      ]
    },
    {
      "cell_type": "markdown",
      "metadata": {
        "id": "nkiggxcsPdGq"
      },
      "source": [
        "**Answer: ** "
      ]
    },
    {
      "cell_type": "markdown",
      "metadata": {
        "id": "BfA7Po8BPdGq"
      },
      "source": [
        "### Implementation: Model Tuning\n",
        "Fine tune the chosen model. Use grid search (`GridSearchCV`) with at least one important parameter tuned with at least 3 different values. You will need to use the entire training set for this. In the code cell below, you will need to implement the following:\n",
        "- Import [`sklearn.grid_search.GridSearchCV`](http://scikit-learn.org/0.17/modules/generated/sklearn.grid_search.GridSearchCV.html) and [`sklearn.metrics.make_scorer`](http://scikit-learn.org/stable/modules/generated/sklearn.metrics.make_scorer.html).\n",
        "- Initialize the classifier you've chosen and store it in `clf`.\n",
        " - Set a `random_state` if one is available to the same state you set before.\n",
        "- Create a dictionary of parameters you wish to tune for the chosen model.\n",
        " - Example: `parameters = {'parameter' : [list of values]}`.\n",
        " - **Note:** Avoid tuning the `max_features` parameter of your learner if that parameter is available!\n",
        "- Use `make_scorer` to create an `fbeta_score` scoring object (with $\\beta = 0.5$).\n",
        "- Perform grid search on the classifier `clf` using the `'scorer'`, and store it in `grid_obj`.\n",
        "- Fit the grid search object to the training data (`X_train`, `y_train`), and store it in `grid_fit`.\n",
        "\n",
        "**Note:** Depending on the algorithm chosen and the parameter list, the following implementation may take some time to run!"
      ]
    },
    {
      "cell_type": "code",
      "execution_count": 49,
      "metadata": {
        "id": "mKEIPED3PdGr",
        "colab": {
          "base_uri": "https://localhost:8080/"
        },
        "outputId": "f616c7db-dc66-4b3c-9234-b9b6fc7895ab"
      },
      "outputs": [
        {
          "output_type": "stream",
          "name": "stdout",
          "text": [
            "Unoptimized model\n",
            "------\n",
            "Accuracy score on testing data: 0.8598\n",
            "F-score on testing data: 0.7238\n",
            "\n",
            "Optimized Model\n",
            "------\n",
            "Final accuracy score on the testing data: 0.8649\n",
            "Final F-score on the testing data: 0.7350\n"
          ]
        }
      ],
      "source": [
        "# TODO: Import 'GridSearchCV', 'make_scorer', and any other necessary libraries\n",
        "from sklearn.metrics import make_scorer\n",
        "from sklearn.model_selection import GridSearchCV\n",
        "# TODO: Initialize the classifier\n",
        "clf = AdaBoostClassifier()\n",
        "\n",
        "# TODO: Create the parameters list you wish to tune, using a dictionary if needed.\n",
        "# HINT: parameters = {'parameter_1': [value1, value2], 'parameter_2': [value1, value2]}\n",
        "parameters = {'n_estimators':[25,50,75,100,150,200]\n",
        "              ,'learning_rate':[0.5,1,2]\n",
        "              ,'algorithm':['SAMME','SAMME.R']\n",
        "}\n",
        "\n",
        "# TODO: Make an fbeta_score scoring object using make_scorer()\n",
        "scorer = make_scorer(fbeta_score,beta=1)\n",
        "\n",
        "# TODO: Perform grid search on the classifier using 'scorer' as the scoring method using GridSearchCV()\n",
        "grid_obj = GridSearchCV(clf,param_grid=parameters,scoring=scorer)\n",
        "\n",
        "# TODO: Fit the grid search object to the training data and find the optimal parameters using fit()\n",
        "grid_fit = grid_obj.fit(X_train,y_train)\n",
        "\n",
        "# Get the estimator\n",
        "best_clf = grid_fit.best_estimator_\n",
        "\n",
        "# Make predictions using the unoptimized and model\n",
        "predictions = (clf.fit(X_train, y_train)).predict(X_test)\n",
        "best_predictions = best_clf.predict(X_test)\n",
        "\n",
        "# Report the before-and-afterscores\n",
        "print(\"Unoptimized model\\n------\")\n",
        "print(\"Accuracy score on testing data: {:.4f}\".format(accuracy_score(y_test, predictions)))\n",
        "print(\"F-score on testing data: {:.4f}\".format(fbeta_score(y_test, predictions, beta = 0.5)))\n",
        "print(\"\\nOptimized Model\\n------\")\n",
        "print(\"Final accuracy score on the testing data: {:.4f}\".format(accuracy_score(y_test, best_predictions)))\n",
        "print(\"Final F-score on the testing data: {:.4f}\".format(fbeta_score(y_test, best_predictions, beta = 0.5)))"
      ]
    },
    {
      "cell_type": "markdown",
      "metadata": {
        "id": "90ickjJZPdGr"
      },
      "source": [
        "### Question 5 - Final Model Evaluation\n",
        "\n",
        "* What is your optimized model's accuracy and F-score on the testing data? \n",
        "* Are these scores better or worse than the unoptimized model? \n",
        "* How do the results from your optimized model compare to the naive predictor benchmarks you found earlier in **Question 1**?_  \n",
        "\n",
        "**Note:** Fill in the table below with your results, and then provide discussion in the **Answer** box."
      ]
    },
    {
      "cell_type": "markdown",
      "metadata": {
        "id": "l-7_xbB7PdGr"
      },
      "source": [
        "#### Results:\n",
        "\n",
        "|     Metric     | Unoptimized Model | Optimized Model |\n",
        "| :------------: | :---------------: | :-------------: | \n",
        "| Accuracy Score |       0.8598            |    0.8649       |\n",
        "| F-score        |            0.7238       |    0.7350       |\n"
      ]
    },
    {
      "cell_type": "markdown",
      "metadata": {
        "id": "mZSzpmthPdGr"
      },
      "source": [
        "**Answer: **"
      ]
    },
    {
      "cell_type": "markdown",
      "metadata": {
        "id": "7YDM1i4nPdGr"
      },
      "source": [
        "----\n",
        "## Feature Importance\n",
        "\n",
        "An important task when performing supervised learning on a dataset like the census data we study here is determining which features provide the most predictive power. By focusing on the relationship between only a few crucial features and the target label we simplify our understanding of the phenomenon, which is most always a useful thing to do. In the case of this project, that means we wish to identify a small number of features that most strongly predict whether an individual makes at most or more than \\$50,000.\n",
        "\n",
        "Choose a scikit-learn classifier (e.g., adaboost, random forests) that has a `feature_importance_` attribute, which is a function that ranks the importance of features according to the chosen classifier.  In the next python cell fit this classifier to training set and use this attribute to determine the top 5 most important features for the census dataset."
      ]
    },
    {
      "cell_type": "markdown",
      "metadata": {
        "id": "_Dk0ORIuPdGs"
      },
      "source": [
        "### Question 6 - Feature Relevance Observation\n",
        "When **Exploring the Data**, it was shown there are thirteen available features for each individual on record in the census data. Of these thirteen records, which five features do you believe to be most important for prediction, and in what order would you rank them and why?"
      ]
    },
    {
      "cell_type": "markdown",
      "metadata": {
        "id": "0gqb4J6LPdGs"
      },
      "source": [
        "**Answer:**\n",
        "- Capital Gain.\n",
        "- Capital Loss.\n",
        "- Age.\n",
        "- Occupation.\n",
        "- Education-num"
      ]
    },
    {
      "cell_type": "markdown",
      "metadata": {
        "id": "3g5wkCVoPdGs"
      },
      "source": [
        "### Implementation - Extracting Feature Importance\n",
        "Choose a `scikit-learn` supervised learning algorithm that has a `feature_importance_` attribute availble for it. This attribute is a function that ranks the importance of each feature when making predictions based on the chosen algorithm.\n",
        "\n",
        "In the code cell below, you will need to implement the following:\n",
        " - Import a supervised learning model from sklearn if it is different from the three used earlier.\n",
        " - Train the supervised model on the entire training set.\n",
        " - Extract the feature importances using `'.feature_importances_'`."
      ]
    },
    {
      "cell_type": "code",
      "execution_count": 50,
      "metadata": {
        "id": "0_rqGJrWPdGs",
        "colab": {
          "base_uri": "https://localhost:8080/",
          "height": 369
        },
        "outputId": "08760770-22df-4ce8-a9e1-f60f6da87c69"
      },
      "outputs": [
        {
          "output_type": "display_data",
          "data": {
            "image/png": "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\n",
            "text/plain": [
              "<Figure size 648x360 with 1 Axes>"
            ]
          },
          "metadata": {
            "needs_background": "light"
          }
        }
      ],
      "source": [
        "# TODO: Import a supervised learning model that has 'feature_importances_'\n",
        "\n",
        "\n",
        "# TODO: Train the supervised model on the training set using .fit(X_train, y_train)\n",
        "model = None\n",
        "\n",
        "# TODO: Extract the feature importances using .feature_importances_ \n",
        "importances = best_clf.feature_importances_\n",
        "\n",
        "# Plot\n",
        "vs.feature_plot(importances, X_train, y_train)"
      ]
    },
    {
      "cell_type": "markdown",
      "metadata": {
        "id": "eGi2NYswPdGs"
      },
      "source": [
        "### Question 7 - Extracting Feature Importance\n",
        "\n",
        "Observe the visualization created above which displays the five most relevant features for predicting if an individual makes at most or above \\$50,000.  \n",
        "* How do these five features compare to the five features you discussed in **Question 6**?\n",
        "* If you were close to the same answer, how does this visualization confirm your thoughts? \n",
        "* If you were not close, why do you think these features are more relevant?"
      ]
    },
    {
      "cell_type": "markdown",
      "metadata": {
        "id": "imB69EtpPdGs"
      },
      "source": [
        "**Answer:**\n",
        "- The only thing I didn't expect is Occupation being replaced by hours-per-week. It's very reasonable that hours-per-week is a significant variable but not including occupation is very unexpected.\n",
        "- Confirms it by 80%.\n",
        "- "
      ]
    },
    {
      "cell_type": "markdown",
      "metadata": {
        "id": "zCjzTKN_PdGs"
      },
      "source": [
        "### Feature Selection\n",
        "How does a model perform if we only use a subset of all the available features in the data? With less features required to train, the expectation is that training and prediction time is much lower — at the cost of performance metrics. From the visualization above, we see that the top five most important features contribute more than half of the importance of **all** features present in the data. This hints that we can attempt to *reduce the feature space* and simplify the information required for the model to learn. The code cell below will use the same optimized model you found earlier, and train it on the same training set *with only the top five important features*. "
      ]
    },
    {
      "cell_type": "code",
      "execution_count": 67,
      "metadata": {
        "id": "m77bai9PPdGt",
        "colab": {
          "base_uri": "https://localhost:8080/"
        },
        "outputId": "4e960f75-f319-47f0-daf1-511a3d9def8e"
      },
      "outputs": [
        {
          "output_type": "stream",
          "name": "stdout",
          "text": [
            "Final Model trained on full data\n",
            "------\n",
            "Accuracy on testing data: 0.8649\n",
            "F-score on testing data: 0.7350\n",
            "\n",
            "Final Model trained on reduced data\n",
            "------\n",
            "Accuracy on testing data: 0.8408\n",
            "F-score on testing data: 0.6924\n"
          ]
        }
      ],
      "source": [
        "# Import functionality for cloning a model\n",
        "from sklearn.base import clone\n",
        "\n",
        "# Reduce the feature space\n",
        "X_train_reduced = X_train[X_train.columns.values[(np.argsort(importances)[::-1])[:5]]]\n",
        "X_test_reduced = X_test[X_test.columns.values[(np.argsort(importances)[::-1])[:5]]]\n",
        "\n",
        "# Train on the \"best\" model found from grid search earlier\n",
        "clf = (clone(best_clf)).fit(X_train_reduced, y_train)\n",
        "\n",
        "# Make new predictions\n",
        "reduced_predictions = clf.predict(X_test_reduced)\n",
        "\n",
        "# Report scores from the final model using both versions of data\n",
        "print(\"Final Model trained on full data\\n------\")\n",
        "print(\"Accuracy on testing data: {:.4f}\".format(accuracy_score(y_test, best_predictions)))\n",
        "print(\"F-score on testing data: {:.4f}\".format(fbeta_score(y_test, best_predictions, beta = 0.5)))\n",
        "print(\"\\nFinal Model trained on reduced data\\n------\")\n",
        "print(\"Accuracy on testing data: {:.4f}\".format(accuracy_score(y_test, reduced_predictions)))\n",
        "print(\"F-score on testing data: {:.4f}\".format(fbeta_score(y_test, reduced_predictions, beta = 0.5)))"
      ]
    },
    {
      "cell_type": "markdown",
      "metadata": {
        "id": "97WLcapzPdGt"
      },
      "source": [
        "### Question 8 - Effects of Feature Selection\n",
        "\n",
        "* How does the final model's F-score and accuracy score on the reduced data using only five features compare to those same scores when all features are used?\n",
        "* If training time was a factor, would you consider using the reduced data as your training set?"
      ]
    },
    {
      "cell_type": "markdown",
      "metadata": {
        "id": "p7uyvezXPdGt"
      },
      "source": [
        "**Answer:**\n",
        "- F-score is lower by 4.26% than the model with all features included.\n",
        "- No since in this particular case the previous model didn't take long time."
      ]
    },
    {
      "cell_type": "markdown",
      "metadata": {
        "id": "x2UUWl_CPdGt"
      },
      "source": [
        "> **Note**: Once you have completed all of the code implementations and successfully answered each question above, you may finalize your work by exporting the iPython Notebook as an HTML document. You can do this by using the menu above and navigating to  \n",
        "**File -> Download as -> HTML (.html)**. Include the finished document along with this notebook as your submission."
      ]
    },
    {
      "cell_type": "markdown",
      "metadata": {
        "id": "9UFw3un6PdGt"
      }
